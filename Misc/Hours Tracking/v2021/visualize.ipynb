{
 "cells": [
  {
   "cell_type": "code",
   "execution_count": null,
   "source": [
    "import pandas as pd\r\n",
    "import numpy as np\r\n",
    "import matplotlib.pyplot as plt\r\n",
    "from csv import reader\r\n",
    "from datetime import datetime"
   ],
   "outputs": [],
   "metadata": {}
  },
  {
   "cell_type": "code",
   "execution_count": null,
   "source": [
    "activities = {'Sleeping': 0,  'Browsing':   1, 'Socializing': 2,  'Education': 3,\r\n",
    "              'Homework': 4,  'Eating':     5, 'Shower':      6,  'Work':      7,\r\n",
    "              'Travel':   8,  'Exercising': 9, 'Job Search':  10, 'Guitar':    11, \r\n",
    "              'Darts':    12, 'Robotics':   13}\r\n",
    "week = {'MONDAY': 1, 'TUESDAY': 2, 'WEDNESDAY': 3, 'THURSDAY': 4, 'FRIDAY': 5, 'SATURDAY': 6, 'SUNDAY': 7}\r\n",
    "months = {'JANUARY': 1, 'FEBRUARY': 2, 'MARCH': 3, 'APRIL': 4, 'MAY': 5, 'JUNE': 6, \r\n",
    "          'JULY': 7, 'AUGUST': 8, 'SEPTEMBER': 9, 'OCTOBER': 10, 'NOVEMBER': 11, 'DECEMBER': 12}"
   ],
   "outputs": [],
   "metadata": {}
  },
  {
   "cell_type": "code",
   "execution_count": null,
   "source": [
    "with open('hours.csv', 'r') as f:\r\n",
    "    csv_reader = reader(f)\r\n",
    "    df = []\r\n",
    "    year = month = day = weekday = None\r\n",
    "    actions = np.empty(288)\r\n",
    "    actions.fill(-1)\r\n",
    "    previous_day = True\r\n",
    "    for row in csv_reader:\r\n",
    "        try:\r\n",
    "            if row[0] == '' or row[0] == 'Total':\r\n",
    "                # print(actions)\r\n",
    "                continue\r\n",
    "            if row[-1] == '':\r\n",
    "                df += [[year, month, day, weekday] + list(actions)]\r\n",
    "                year = row[2]\r\n",
    "                month = months[row[0].split(' ')[1]]\r\n",
    "                day = int(row[0].split(' ')[2])\r\n",
    "                weekday = week[row[0].split(',')[0]]\r\n",
    "            else:\r\n",
    "                activity = activities[row[0]]\r\n",
    "                start_time = row[1].split(':')\r\n",
    "                start_time = int(start_time[0])*12 + int(start_time[1])//5\r\n",
    "                end_time = row[2].split(':')\r\n",
    "                end_time = int(end_time[0])*12 + int(end_time[1])//5\r\n",
    "\r\n",
    "                if end_time == 0:\r\n",
    "                    end_time = 288\r\n",
    "\r\n",
    "                if end_time < start_time:\r\n",
    "                    if previous_day:\r\n",
    "                        end_time = 288\r\n",
    "                    else:\r\n",
    "                        start_time = 0\r\n",
    "                    previous_day = not previous_day\r\n",
    "\r\n",
    "                actions[start_time:end_time] = activity\r\n",
    "        except:\r\n",
    "            print(row)\r\n",
    "\r\n",
    "df = pd.DataFrame(df[1:], columns = ['year', 'month', 'day', 'day_of_week'] + [str(i//12).zfill(2)+':'+str(i%12 *5).zfill(2) for i in range(288)])"
   ],
   "outputs": [],
   "metadata": {}
  },
  {
   "cell_type": "code",
   "execution_count": null,
   "source": [
    "print(df.shape)\r\n",
    "# print(df.head())\r\n",
    "# print(df['00:00'].value_counts())"
   ],
   "outputs": [],
   "metadata": {}
  },
  {
   "cell_type": "code",
   "execution_count": null,
   "source": [
    "# Plot the stacked area chart for a specific timeframe\r\n",
    "freq_df = pd.DataFrame(index = activities.values())\r\n",
    "for col in df.columns[4:]:\r\n",
    "    freqs = df[col].value_counts()\r\n",
    "    freq_df = pd.concat([freq_df, freqs], axis=1)\r\n",
    "freq_df = freq_df.fillna(0)"
   ],
   "outputs": [],
   "metadata": {}
  },
  {
   "cell_type": "code",
   "execution_count": null,
   "source": [
    "# Verify total activity counts\r\n",
    "for row in range(freq_df.shape[0]):\r\n",
    "    print(row, list(activities.keys())[row], np.sum(freq_df.iloc[row]))"
   ],
   "outputs": [],
   "metadata": {}
  },
  {
   "cell_type": "code",
   "execution_count": null,
   "source": [
    "plt.rcParams[\"figure.figsize\"] = (20, 13)\r\n",
    "plt.stackplot(df.columns[4:], freq_df.iloc[0], freq_df.iloc[1],\r\n",
    "              freq_df.iloc[2], freq_df.iloc[3], freq_df.iloc[4],\r\n",
    "              freq_df.iloc[5], freq_df.iloc[6], freq_df.iloc[7],\r\n",
    "              freq_df.iloc[8], freq_df.iloc[9], freq_df.iloc[10],\r\n",
    "              freq_df.iloc[11], freq_df.iloc[12], freq_df.iloc[13], \r\n",
    "              labels=activities.keys())\r\n",
    "plt.legend()\r\n",
    "plt.xticks(df.columns[4::12])\r\n",
    "plt.xlim([0, 287])\r\n",
    "plt.show()"
   ],
   "outputs": [],
   "metadata": {}
  },
  {
   "cell_type": "code",
   "execution_count": null,
   "source": [
    "df.to_csv('output.csv')"
   ],
   "outputs": [],
   "metadata": {}
  }
 ],
 "metadata": {
  "orig_nbformat": 4,
  "language_info": {
   "name": "python",
   "version": "3.9.5",
   "mimetype": "text/x-python",
   "codemirror_mode": {
    "name": "ipython",
    "version": 3
   },
   "pygments_lexer": "ipython3",
   "nbconvert_exporter": "python",
   "file_extension": ".py"
  },
  "kernelspec": {
   "name": "python3",
   "display_name": "Python 3.9.5 64-bit ('uni': conda)"
  },
  "interpreter": {
   "hash": "78587f5f97391f06a5f35699c109bdd3ccdc5ce5156578feb5b694eb02769f06"
  }
 },
 "nbformat": 4,
 "nbformat_minor": 2
}