{
 "cells": [
  {
   "cell_type": "code",
   "execution_count": 7,
   "metadata": {},
   "outputs": [],
   "source": [
    "import csv\n",
    "from tqdm import tqdm\n",
    "from collections import defaultdict\n",
    "from itertools import combinations\n",
    "\n",
    "def parse_csv(file_path):\n",
    "    print(\"Parsing the CSV file\")\n",
    "    word_to_manuscripts = defaultdict(list)\n",
    "    with open(file_path, 'r', encoding='utf-8') as file:\n",
    "        reader = csv.reader(file)\n",
    "        next(reader)  # Skip the header\n",
    "        for row in reader:\n",
    "            word, manuscripts = row\n",
    "            manuscripts_list = manuscripts.strip('\"').split(', ')\n",
    "            for manuscript in manuscripts_list:\n",
    "                word_to_manuscripts[word].append(manuscript)\n",
    "    return word_to_manuscripts\n",
    "\n",
    "def build_combinations_from_words(word_to_manuscripts):\n",
    "    print(\"Building combinations from words\")\n",
    "    combinations_to_words = defaultdict(set)\n",
    "    for word, manuscripts in tqdm(word_to_manuscripts.items()):\n",
    "        for n in range(2, len(manuscripts) + 1):\n",
    "            for combo in combinations(manuscripts, n):\n",
    "                combinations_to_words[combo].add(word)\n",
    "    return combinations_to_words\n",
    "\n",
    "def filter_subsets_within_n_word_group(groups_with_n_words):\n",
    "    filtered_groups = []\n",
    "    for group in sorted(groups_with_n_words, key=lambda x: len(x), reverse=True):\n",
    "        if not any(set(group) <= set(existing_group) for existing_group, _ in filtered_groups):\n",
    "            filtered_groups.append((group, groups_with_n_words[group]))\n",
    "    return {group: words for group, words in filtered_groups}\n",
    "\n",
    "def process_by_shared_word_count(combinations_to_words, max_significant_words, output_file_path):\n",
    "    print(\"Processing by shared word count\")\n",
    "    with open(output_file_path, 'w', newline='', encoding='utf-8') as file:\n",
    "        writer = csv.writer(file)\n",
    "        writer.writerow([\"Group\", \"Common Words\", \"Count of Shared Words\"])\n",
    "        for n in tqdm(range(1, max_significant_words + 1)):\n",
    "            groups_sharing_n_words = {group: words for group, words in combinations_to_words.items() if len(words) == n}\n",
    "            filtered_sets = filter_subsets_within_n_word_group(groups_sharing_n_words)\n",
    "            for group, words in filtered_sets.items():\n",
    "                writer.writerow([', '.join(group), ', '.join(words), len(words)])"
   ]
  },
  {
   "cell_type": "code",
   "execution_count": 8,
   "metadata": {},
   "outputs": [
    {
     "name": "stdout",
     "output_type": "stream",
     "text": [
      "Parsing the CSV file\n",
      "Building combinations from words\n"
     ]
    },
    {
     "name": "stderr",
     "output_type": "stream",
     "text": [
      "100%|██████████| 40/40 [01:38<00:00,  2.46s/it]\n"
     ]
    },
    {
     "name": "stdout",
     "output_type": "stream",
     "text": [
      "Processing by shared word count\n"
     ]
    },
    {
     "name": "stderr",
     "output_type": "stream",
     "text": [
      "100%|██████████| 20/20 [00:52<00:00,  2.63s/it]"
     ]
    },
    {
     "name": "stdout",
     "output_type": "stream",
     "text": [
      "Output has been written to filtered_sets.csv\n"
     ]
    },
    {
     "name": "stderr",
     "output_type": "stream",
     "text": [
      "\n"
     ]
    }
   ],
   "source": [
    "max_significant_words = 20\n",
    "file_path = 'data_filtered.csv'\n",
    "output_file_path = 'filtered_sets.csv'\n",
    "\n",
    "word_to_manuscripts = parse_csv(file_path)\n",
    "combinations_to_words = build_combinations_from_words(word_to_manuscripts)\n",
    "process_by_shared_word_count(combinations_to_words, max_significant_words, output_file_path)\n",
    "\n",
    "print(\"Output has been written to\", output_file_path)"
   ]
  }
 ],
 "metadata": {
  "kernelspec": {
   "display_name": "syde599",
   "language": "python",
   "name": "python3"
  },
  "language_info": {
   "codemirror_mode": {
    "name": "ipython",
    "version": 3
   },
   "file_extension": ".py",
   "mimetype": "text/x-python",
   "name": "python",
   "nbconvert_exporter": "python",
   "pygments_lexer": "ipython3",
   "version": "3.11.5"
  }
 },
 "nbformat": 4,
 "nbformat_minor": 2
}
