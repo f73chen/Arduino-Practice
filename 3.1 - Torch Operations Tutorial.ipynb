{
 "cells": [
  {
   "cell_type": "markdown",
   "metadata": {},
   "source": [
    "# Tensors and Torch Operations"
   ]
  },
  {
   "cell_type": "code",
   "execution_count": 1,
   "metadata": {},
   "outputs": [],
   "source": [
    "import torch"
   ]
  },
  {
   "cell_type": "markdown",
   "metadata": {},
   "source": [
    "# Tensor creation operations\n",
    "Specify shape and dtype as arguments. Shape can be a single integer, or tuple."
   ]
  },
  {
   "cell_type": "code",
   "execution_count": 2,
   "metadata": {},
   "outputs": [
    {
     "data": {
      "text/plain": [
       "tensor([1., 1., 1., 1., 1., 1., 1., 1., 1., 1.])"
      ]
     },
     "execution_count": 2,
     "metadata": {},
     "output_type": "execute_result"
    }
   ],
   "source": [
    "# A vector of 10 ones\n",
    "torch.ones(10)"
   ]
  },
  {
   "cell_type": "code",
   "execution_count": 3,
   "metadata": {},
   "outputs": [
    {
     "data": {
      "text/plain": [
       "tensor([[0, 0, 0],\n",
       "        [0, 0, 0],\n",
       "        [0, 0, 0]])"
      ]
     },
     "execution_count": 3,
     "metadata": {},
     "output_type": "execute_result"
    }
   ],
   "source": [
    "# A (3, 3) matrix of 0s as integers\n",
    "torch.zeros((3, 3), dtype=torch.long)"
   ]
  },
  {
   "cell_type": "code",
   "execution_count": 4,
   "metadata": {},
   "outputs": [
    {
     "data": {
      "text/plain": [
       "tensor([[[-0.7078,  0.6240,  0.0247,  0.2249],\n",
       "         [-0.4613, -0.3309, -1.5717, -0.1325],\n",
       "         [ 1.3328,  0.2966, -0.2496,  0.4192],\n",
       "         [ 1.4137,  0.3120,  0.2919,  0.8512]],\n",
       "\n",
       "        [[ 0.4161,  0.0908,  0.3733, -0.7612],\n",
       "         [-1.7035,  0.8319, -0.4265,  1.3114],\n",
       "         [ 0.1310,  0.3583,  0.1277,  0.6197],\n",
       "         [ 0.8740,  1.0796, -0.4294,  0.1219]]])"
      ]
     },
     "execution_count": 4,
     "metadata": {},
     "output_type": "execute_result"
    }
   ],
   "source": [
    "# A (2, 4, 4) tensor of numbers from standard normal distribution\n",
    "torch.randn((2, 4, 4))"
   ]
  },
  {
   "cell_type": "markdown",
   "metadata": {},
   "source": [
    "# Tensor shapes\n",
    "- Row vector: (B, 1)\n",
    "- Feature matrix: (B, D)\n",
    "- Greyscale images: (B, W, H, 1)\n",
    "- RGB images: (B, W, H, 3)\n",
    "- Arbitrary images: (B, W, H, C)\n",
    "- Sequences of vectors: (B, L, D)\n",
    "\n",
    "Create tensors of random numbers that have the same shapes as specified."
   ]
  },
  {
   "cell_type": "code",
   "execution_count": null,
   "metadata": {},
   "outputs": [],
   "source": [
    "# TODO: Create a feature matrix with 4 examples whose feature size is 10\n",
    "torch.randn((4, 10))"
   ]
  },
  {
   "cell_type": "code",
   "execution_count": null,
   "metadata": {},
   "outputs": [],
   "source": [
    "# TODO: Create a batch of 5 RGB images whose spatial dimensions are 32x32\n",
    "torch.randn((5, 32, 32, 3))"
   ]
  },
  {
   "cell_type": "code",
   "execution_count": null,
   "metadata": {},
   "outputs": [],
   "source": [
    "# TODO: Create a batch of 2 vector sequences, whose sequence lengths are 7 and feature dimension is 4\n",
    "torch.randn((2, 7, 4))"
   ]
  },
  {
   "cell_type": "markdown",
   "metadata": {},
   "source": [
    "# Torch dtypes\n",
    "Some useful conversions:\n",
    "- `torch.FloatTensor()` can be used to create tensors of `torch.float32` dtype\n",
    "- `torch.LongTensor()` can be used to create tensors of `torch.int64` dtype\n",
    "- Numpy arrays can be converted with `torch.from_numpy(x)`\n",
    "- `dtype` can be specified in some creation operations\n",
    "- Tensors can be cast using `x.type(new_type)`"
   ]
  },
  {
   "cell_type": "markdown",
   "metadata": {},
   "source": [
    "# Tensor indexing\n",
    "\n",
    "A tensor dimension of size D can be indexed in the following ways:\n",
    "- Single integers from [0, D-1] or [-D, -1] for reverse indices\n",
    "- Lists of integers or tensors of integer dtypes\n",
    "- Slices, using colon notation, or slice objects\n",
    "- Boolean masks of size D (or broadcastable)\n",
    "- Ellipsis to infer other dimensions"
   ]
  },
  {
   "cell_type": "code",
   "execution_count": 7,
   "metadata": {},
   "outputs": [
    {
     "data": {
      "text/plain": [
       "tensor([ 0,  1,  2,  3,  4,  5,  6,  7,  8,  9, 10, 11])"
      ]
     },
     "execution_count": 7,
     "metadata": {},
     "output_type": "execute_result"
    }
   ],
   "source": [
    "a = torch.arange(12)\n",
    "a"
   ]
  },
  {
   "cell_type": "code",
   "execution_count": 8,
   "metadata": {},
   "outputs": [
    {
     "data": {
      "text/plain": [
       "(tensor(1), tensor(11), tensor(9))"
      ]
     },
     "execution_count": 8,
     "metadata": {},
     "output_type": "execute_result"
    }
   ],
   "source": [
    "# Single integer indexing\n",
    "a[1], a[-1], a[-3]"
   ]
  },
  {
   "cell_type": "code",
   "execution_count": 9,
   "metadata": {},
   "outputs": [
    {
     "data": {
      "text/plain": [
       "(tensor([1, 3, 5]), tensor([2, 2, 2]))"
      ]
     },
     "execution_count": 9,
     "metadata": {},
     "output_type": "execute_result"
    }
   ],
   "source": [
    "# List indexing\n",
    "a[[1, 3, 5]], a[[2, 2, 2]]"
   ]
  },
  {
   "cell_type": "code",
   "execution_count": 10,
   "metadata": {},
   "outputs": [
    {
     "data": {
      "text/plain": [
       "(tensor([[ 0,  1,  2,  3],\n",
       "         [ 4,  5,  6,  7],\n",
       "         [ 8,  9, 10, 11]]),\n",
       " tensor([0, 1, 2, 3]))"
      ]
     },
     "execution_count": 10,
     "metadata": {},
     "output_type": "execute_result"
    }
   ],
   "source": [
    "# Single colon represents entire dim, here we select all of row 0\n",
    "b = a.reshape(3, 4)\n",
    "b, b[0, :]"
   ]
  },
  {
   "cell_type": "code",
   "execution_count": 11,
   "metadata": {},
   "outputs": [
    {
     "data": {
      "text/plain": [
       "(tensor([0, 1, 2]),\n",
       " tensor([0, 1, 2, 3, 4]),\n",
       " tensor([ 5,  6,  7,  8,  9, 10, 11]),\n",
       " tensor([ 0,  1,  2,  3,  4,  5,  6,  7,  8,  9, 10]))"
      ]
     },
     "execution_count": 11,
     "metadata": {},
     "output_type": "execute_result"
    }
   ],
   "source": [
    "# Colons can represent ranges by `start:end`, exclusive of end when specified. Infers beginning or end\n",
    "a[0:3], a[:5], a[5:], a[:-1]"
   ]
  },
  {
   "cell_type": "code",
   "execution_count": 12,
   "metadata": {},
   "outputs": [
    {
     "data": {
      "text/plain": [
       "(tensor([0, 1, 2, 3, 4]),\n",
       " tensor([ True,  True,  True,  True,  True, False, False, False, False, False,\n",
       "         False, False]))"
      ]
     },
     "execution_count": 12,
     "metadata": {},
     "output_type": "execute_result"
    }
   ],
   "source": [
    "# Boolean masks can be used to select based on conditions\n",
    "mask = a < 5\n",
    "a[mask], mask"
   ]
  },
  {
   "cell_type": "code",
   "execution_count": 13,
   "metadata": {},
   "outputs": [
    {
     "data": {
      "text/plain": [
       "(tensor([[[ 0,  1,  2,  3,  4],\n",
       "          [ 5,  6,  7,  8,  9],\n",
       "          [10, 11, 12, 13, 14],\n",
       "          [15, 16, 17, 18, 19]],\n",
       " \n",
       "         [[20, 21, 22, 23, 24],\n",
       "          [25, 26, 27, 28, 29],\n",
       "          [30, 31, 32, 33, 34],\n",
       "          [35, 36, 37, 38, 39]],\n",
       " \n",
       "         [[40, 41, 42, 43, 44],\n",
       "          [45, 46, 47, 48, 49],\n",
       "          [50, 51, 52, 53, 54],\n",
       "          [55, 56, 57, 58, 59]]]),\n",
       " tensor([[ 0,  1,  2,  3,  4],\n",
       "         [ 5,  6,  7,  8,  9],\n",
       "         [10, 11, 12, 13, 14],\n",
       "         [15, 16, 17, 18, 19]]))"
      ]
     },
     "execution_count": 13,
     "metadata": {},
     "output_type": "execute_result"
    }
   ],
   "source": [
    "# Ellipsis can infer dimensions\n",
    "c = torch.arange(60).reshape(3, 4, 5)\n",
    "c, c[0, ...]"
   ]
  },
  {
   "cell_type": "markdown",
   "metadata": {},
   "source": [
    "# Elementwise operations"
   ]
  },
  {
   "cell_type": "code",
   "execution_count": 16,
   "metadata": {},
   "outputs": [
    {
     "data": {
      "text/plain": [
       "tensor([0, 0, 0, 0, 0, 0, 1, 2, 3, 4])"
      ]
     },
     "execution_count": 16,
     "metadata": {},
     "output_type": "execute_result"
    }
   ],
   "source": [
    "# TODO: Apply relu to tensor `a` and print results\n",
    "a = torch.arange(-5, 5)\n",
    "\n",
    "torch.relu(a)"
   ]
  },
  {
   "cell_type": "markdown",
   "metadata": {},
   "source": [
    "# Broadcasting\n",
    "Broadcasting rules:\n",
    "- Right-most dimensions matches\n",
    "- A dimension has size 1 (including scalars)"
   ]
  },
  {
   "cell_type": "code",
   "execution_count": 17,
   "metadata": {},
   "outputs": [
    {
     "data": {
      "text/plain": [
       "tensor([11., 12., 13.])"
      ]
     },
     "execution_count": 17,
     "metadata": {},
     "output_type": "execute_result"
    }
   ],
   "source": [
    "# We would expect without broadcasting to apply all operations elementwise with operands of the same size\n",
    "a = torch.Tensor([1, 2, 3])\n",
    "b = torch.Tensor([10, 10, 10])\n",
    "a + b"
   ]
  },
  {
   "cell_type": "code",
   "execution_count": 18,
   "metadata": {},
   "outputs": [
    {
     "data": {
      "text/plain": [
       "tensor([11., 12., 13.])"
      ]
     },
     "execution_count": 18,
     "metadata": {},
     "output_type": "execute_result"
    }
   ],
   "source": [
    "# Example: Broadcasting to add a scalar to a tensor\n",
    "a + 10"
   ]
  },
  {
   "cell_type": "code",
   "execution_count": 19,
   "metadata": {},
   "outputs": [
    {
     "data": {
      "text/plain": [
       "tensor([[  1.,  11., 102., 203.],\n",
       "        [  5.,  15., 106., 207.],\n",
       "        [  9.,  19., 110., 211.]])"
      ]
     },
     "execution_count": 19,
     "metadata": {},
     "output_type": "execute_result"
    }
   ],
   "source": [
    "# Example: Adding a vector to each row of a matrix\n",
    "a = torch.arange(12).reshape(3, 4)  # Matrix of size (3, 4)\n",
    "b = torch.Tensor([1, 10, 100, 200])  # Column vector of size (4,)\n",
    "# Sizes: (3, 4) + (4,)\n",
    "a + b"
   ]
  },
  {
   "cell_type": "code",
   "execution_count": 20,
   "metadata": {},
   "outputs": [
    {
     "data": {
      "text/plain": [
       "tensor([[ True,  True,  True,  True],\n",
       "        [ True, False, False, False],\n",
       "        [False, False, False, False]])"
      ]
     },
     "execution_count": 20,
     "metadata": {},
     "output_type": "execute_result"
    }
   ],
   "source": [
    "# Example: Creating a boolean mask from a tensor\n",
    "a = torch.arange(12).reshape(3, 4)\n",
    "a < 5"
   ]
  },
  {
   "cell_type": "code",
   "execution_count": 21,
   "metadata": {},
   "outputs": [
    {
     "data": {
      "text/plain": [
       "torch.Size([2, 4, 3, 10])"
      ]
     },
     "execution_count": 21,
     "metadata": {},
     "output_type": "execute_result"
    }
   ],
   "source": [
    "# Example: Adding a tensor that has a singleton dimension\n",
    "a = torch.randn((2, 4, 3, 10))\n",
    "b = torch.randn((4, 1, 10))\n",
    "# (2, 4, 3, 10)\n",
    "#    (4, 1, 10)\n",
    "# =============\n",
    "# (2, 4, 3, 10)\n",
    "\n",
    "# Note that b with shape (4, 10) will not broadcast\n",
    "# b = torch.randn((4, 10))\n",
    "\n",
    "c = a + b\n",
    "c.shape"
   ]
  },
  {
   "cell_type": "code",
   "execution_count": 26,
   "metadata": {},
   "outputs": [
    {
     "data": {
      "text/plain": [
       "tensor([[ -2.9291,   5.6519,  93.8745],\n",
       "        [ -2.9907,   4.1796,  99.3346],\n",
       "        [ -3.2335,   4.0937,  93.4349],\n",
       "        [ -3.0609,   5.6831, 102.8349],\n",
       "        [ -2.8459,   4.9303,  90.0029],\n",
       "        [ -2.8448,   6.0234, 100.1272],\n",
       "        [ -2.9831,   4.1251, 100.3725],\n",
       "        [ -2.9202,   3.9568, 100.9909],\n",
       "        [ -3.0936,   4.1505,  83.0933],\n",
       "        [ -3.0162,   6.0890, 105.9013]])"
      ]
     },
     "execution_count": 26,
     "metadata": {},
     "output_type": "execute_result"
    }
   ],
   "source": [
    "# TODO: Transform a random normal tensor of shape (3, 10)\n",
    "# The columns should have means of [-3, 5, 100] and standard deviations of [0.1, 1, 10]\n",
    "a = torch.randn((10, 3))  # Shape     (10, 3)\n",
    "\n",
    "means = torch.Tensor([-3, 5, 100])\n",
    "stdevs = torch.Tensor([0.1, 1, 10])\n",
    "a = (a * stdevs) + means\n",
    "a"
   ]
  },
  {
   "cell_type": "markdown",
   "metadata": {},
   "source": [
    "# Matrix multiplication\n",
    "\n",
    "Matmul rules:\n",
    "- A has shape `(..., l, m)`\n",
    "- B has shape `     (m, n)`\n",
    "- Last dimension of A must have same as second-last dimension of B\n",
    "- Transform last dimension of A from `m` to `n`\n",
    "- Can use `torch.mm()` or `@` operator"
   ]
  },
  {
   "cell_type": "code",
   "execution_count": 27,
   "metadata": {},
   "outputs": [
    {
     "data": {
      "text/plain": [
       "torch.Size([3, 10])"
      ]
     },
     "execution_count": 27,
     "metadata": {},
     "output_type": "execute_result"
    }
   ],
   "source": [
    "# Example: Multiply two matrices\n",
    "A = torch.randn((3, 5))\n",
    "B = torch.randn((5, 10))\n",
    "# (3, 5)  @ (5, 10) -> (3, 10)\n",
    "C = A @ B\n",
    "C.shape"
   ]
  },
  {
   "cell_type": "code",
   "execution_count": 28,
   "metadata": {},
   "outputs": [
    {
     "data": {
      "text/plain": [
       "torch.Size([4, 32, 32, 10])"
      ]
     },
     "execution_count": 28,
     "metadata": {},
     "output_type": "execute_result"
    }
   ],
   "source": [
    "# Example: Matmul can be broadcasted\n",
    "A = torch.randn((4, 32, 32, 3))\n",
    "B = torch.randn((3, 10))\n",
    "# (4, 32, 32, 3) @ (3, 10) -> (4, 32, 32, 10)\n",
    "C = A @ B\n",
    "C.shape"
   ]
  },
  {
   "cell_type": "code",
   "execution_count": 30,
   "metadata": {},
   "outputs": [
    {
     "data": {
      "text/plain": [
       "torch.Size([4, 100, 32])"
      ]
     },
     "execution_count": 30,
     "metadata": {},
     "output_type": "execute_result"
    }
   ],
   "source": [
    "# TODO: Transform this batch of vector sequences from feature size 7 to feature size 32 through matmul\n",
    "A = torch.randn(4, 100, 7)\n",
    "\n",
    "B = torch.randn(7, 32)\n",
    "C = A @ B\n",
    "C.shape"
   ]
  },
  {
   "cell_type": "markdown",
   "metadata": {},
   "source": [
    "# Reduction operations\n",
    "Reduction operation rules:\n",
    "- By default reduces across whole tensor\n",
    "- Specify the `dim` keyword to specify reduction dimension"
   ]
  },
  {
   "cell_type": "code",
   "execution_count": 31,
   "metadata": {},
   "outputs": [
    {
     "data": {
      "text/plain": [
       "tensor([[ 0,  1,  2,  3],\n",
       "        [ 4,  5,  6,  7],\n",
       "        [ 8,  9, 10, 11]])"
      ]
     },
     "execution_count": 31,
     "metadata": {},
     "output_type": "execute_result"
    }
   ],
   "source": [
    "a = torch.arange(12).reshape(3, 4)\n",
    "a"
   ]
  },
  {
   "cell_type": "code",
   "execution_count": 32,
   "metadata": {},
   "outputs": [
    {
     "data": {
      "text/plain": [
       "tensor(66)"
      ]
     },
     "execution_count": 32,
     "metadata": {},
     "output_type": "execute_result"
    }
   ],
   "source": [
    "# Example: Sum all elements of a\n",
    "a.sum()"
   ]
  },
  {
   "cell_type": "code",
   "execution_count": 33,
   "metadata": {},
   "outputs": [
    {
     "data": {
      "text/plain": [
       "tensor([12, 15, 18, 21])"
      ]
     },
     "execution_count": 33,
     "metadata": {},
     "output_type": "execute_result"
    }
   ],
   "source": [
    "# Example: Sum along rows (dim=0)\n",
    "a.sum(dim=0)"
   ]
  },
  {
   "cell_type": "code",
   "execution_count": 34,
   "metadata": {},
   "outputs": [
    {
     "data": {
      "text/plain": [
       "tensor([ 6, 22, 38])"
      ]
     },
     "execution_count": 34,
     "metadata": {},
     "output_type": "execute_result"
    }
   ],
   "source": [
    "# TODO: Sum along columns\n",
    "a.sum(dim=1)"
   ]
  },
  {
   "cell_type": "code",
   "execution_count": 35,
   "metadata": {},
   "outputs": [
    {
     "data": {
      "text/plain": [
       "tensor([1.1000, 1.5401, 0.9922, 0.9829])"
      ]
     },
     "execution_count": 35,
     "metadata": {},
     "output_type": "execute_result"
    }
   ],
   "source": [
    "# TODO: Compute the mean and standard deviation of this tensor along rows\n",
    "a = torch.randn((10, 4))\n",
    "\n",
    "a.mean(dim=0)\n",
    "a.std(dim=0)"
   ]
  },
  {
   "cell_type": "markdown",
   "metadata": {},
   "source": [
    "# Reshape operations\n",
    "- `x.reshape(shape)`: Reshapes to `shape`, product of dims must be same before and after\n",
    "- `x.squeeze()`: Remove singleton dims\n",
    "- `x.unsqueeze(d)`: Add a singleton dim at dimension `d`\n",
    "- `x.flatten()`: Unravel into a vector of shape `(x.size,)`\n",
    "- `x.permute(order)`: Permute order of dims according to a tuple of dims\n"
   ]
  },
  {
   "cell_type": "code",
   "execution_count": 36,
   "metadata": {},
   "outputs": [
    {
     "data": {
      "text/plain": [
       "tensor([[[[ 0,  1,  2,  3,  4],\n",
       "          [ 5,  6,  7,  8,  9],\n",
       "          [10, 11, 12, 13, 14],\n",
       "          [15, 16, 17, 18, 19]]],\n",
       "\n",
       "\n",
       "        [[[20, 21, 22, 23, 24],\n",
       "          [25, 26, 27, 28, 29],\n",
       "          [30, 31, 32, 33, 34],\n",
       "          [35, 36, 37, 38, 39]]],\n",
       "\n",
       "\n",
       "        [[[40, 41, 42, 43, 44],\n",
       "          [45, 46, 47, 48, 49],\n",
       "          [50, 51, 52, 53, 54],\n",
       "          [55, 56, 57, 58, 59]]]])"
      ]
     },
     "execution_count": 36,
     "metadata": {},
     "output_type": "execute_result"
    }
   ],
   "source": [
    "a = torch.arange(60).reshape(3, 1, 4, 5)\n",
    "a"
   ]
  },
  {
   "cell_type": "code",
   "execution_count": 37,
   "metadata": {},
   "outputs": [
    {
     "data": {
      "text/plain": [
       "tensor([[ 0,  1,  2,  3,  4,  5,  6,  7,  8,  9, 10, 11, 12, 13, 14, 15, 16, 17,\n",
       "         18, 19, 20, 21, 22, 23, 24, 25, 26, 27, 28, 29],\n",
       "        [30, 31, 32, 33, 34, 35, 36, 37, 38, 39, 40, 41, 42, 43, 44, 45, 46, 47,\n",
       "         48, 49, 50, 51, 52, 53, 54, 55, 56, 57, 58, 59]])"
      ]
     },
     "execution_count": 37,
     "metadata": {},
     "output_type": "execute_result"
    }
   ],
   "source": [
    "# Example: Reshape to (2, 30)\n",
    "a.reshape(2, 30)"
   ]
  },
  {
   "cell_type": "code",
   "execution_count": 38,
   "metadata": {},
   "outputs": [
    {
     "data": {
      "text/plain": [
       "torch.Size([3, 4, 5])"
      ]
     },
     "execution_count": 38,
     "metadata": {},
     "output_type": "execute_result"
    }
   ],
   "source": [
    "# Example: Squeeze out extra dimension\n",
    "a.squeeze().shape"
   ]
  },
  {
   "cell_type": "code",
   "execution_count": 39,
   "metadata": {},
   "outputs": [
    {
     "data": {
      "text/plain": [
       "(tensor([ 0,  1,  2,  3,  4,  5,  6,  7,  8,  9, 10, 11, 12, 13, 14, 15, 16, 17,\n",
       "         18, 19, 20, 21, 22, 23, 24, 25, 26, 27, 28, 29, 30, 31, 32, 33, 34, 35,\n",
       "         36, 37, 38, 39, 40, 41, 42, 43, 44, 45, 46, 47, 48, 49, 50, 51, 52, 53,\n",
       "         54, 55, 56, 57, 58, 59]),\n",
       " torch.Size([60]))"
      ]
     },
     "execution_count": 39,
     "metadata": {},
     "output_type": "execute_result"
    }
   ],
   "source": [
    "# Example: Flatten into a vector\n",
    "a.flatten(), a.flatten().shape"
   ]
  },
  {
   "cell_type": "code",
   "execution_count": 40,
   "metadata": {},
   "outputs": [
    {
     "data": {
      "text/plain": [
       "torch.Size([3, 1, 20])"
      ]
     },
     "execution_count": 40,
     "metadata": {},
     "output_type": "execute_result"
    }
   ],
   "source": [
    "# Example: Flatten just the last two dims\n",
    "a.flatten(-2).shape"
   ]
  },
  {
   "cell_type": "code",
   "execution_count": 43,
   "metadata": {},
   "outputs": [
    {
     "data": {
      "text/plain": [
       "torch.Size([1, 5, 4, 3])"
      ]
     },
     "execution_count": 43,
     "metadata": {},
     "output_type": "execute_result"
    }
   ],
   "source": [
    "# TODO: Permute order of dims to (1, 5, 4, 3)\n",
    "# (3, 1, 4, 5)\n",
    "# (0, 1, 2, 3)\n",
    "a.permute((1, 3, 2, 0)).shape"
   ]
  },
  {
   "cell_type": "markdown",
   "metadata": {},
   "source": [
    "# Activity: Process the logistic regression data"
   ]
  },
  {
   "cell_type": "code",
   "execution_count": null,
   "metadata": {},
   "outputs": [],
   "source": [
    "# COLAB\n",
    "# !git clone https://github.com/trevor-yu-087/syde-599-f23-tutorial\n",
    "# DATA_PATH = \"/content/syde-599-f23-tutorial/data/logistic-regression-data.pkl\""
   ]
  },
  {
   "cell_type": "code",
   "execution_count": 44,
   "metadata": {},
   "outputs": [
    {
     "data": {
      "text/plain": [
       "((75, 4), numpy.ndarray)"
      ]
     },
     "execution_count": 44,
     "metadata": {},
     "output_type": "execute_result"
    }
   ],
   "source": [
    "import pickle\n",
    "with open(\"data/logistic-regression-data.pkl\", \"rb\") as f:\n",
    "    data = pickle.load(f)\n",
    "x = data[\"training_x\"]\n",
    "x.shape, type(x)"
   ]
  },
  {
   "cell_type": "code",
   "execution_count": 46,
   "metadata": {},
   "outputs": [
    {
     "data": {
      "text/plain": [
       "(torch.Size([75, 4]), torch.float32)"
      ]
     },
     "execution_count": 46,
     "metadata": {},
     "output_type": "execute_result"
    }
   ],
   "source": [
    "# TODO: Convert the data to a tensor in float32 dtype\n",
    "x = torch.FloatTensor(x)\n",
    "x.shape, x.dtype"
   ]
  },
  {
   "cell_type": "code",
   "execution_count": 49,
   "metadata": {},
   "outputs": [
    {
     "data": {
      "text/plain": [
       "(tensor([6.2333, 2.8653, 4.8800, 1.6653]),\n",
       " tensor([0.6618, 0.3042, 0.8276, 0.4304]))"
      ]
     },
     "execution_count": 49,
     "metadata": {},
     "output_type": "execute_result"
    }
   ],
   "source": [
    "# TODO: Compute the mean and std over the batch dimension\n",
    "mean = x.mean(dim=0)\n",
    "std = x.std(dim=0)\n",
    "mean, std"
   ]
  },
  {
   "cell_type": "code",
   "execution_count": 50,
   "metadata": {},
   "outputs": [],
   "source": [
    "# TODO: Standardize the data by subtracting the mean and dividing by std\n",
    "x = (x - mean) / std"
   ]
  },
  {
   "cell_type": "code",
   "execution_count": 51,
   "metadata": {},
   "outputs": [
    {
     "data": {
      "text/plain": [
       "(tensor([ 3.3140e-07,  5.4042e-08, -1.7643e-07, -1.5736e-07]),\n",
       " tensor([1., 1., 1., 1.]))"
      ]
     },
     "execution_count": 51,
     "metadata": {},
     "output_type": "execute_result"
    }
   ],
   "source": [
    "# TODO: Verify the new mean/std are standard normal\n",
    "mean = x.mean(dim=0)\n",
    "std = x.std(dim=0)\n",
    "mean, std"
   ]
  },
  {
   "cell_type": "markdown",
   "metadata": {},
   "source": [
    "# Activity: Linear layer\n",
    "The `torch.nn.Linear(m, n)` layer applies the equation `y = x @ w + b` such that `w` is a weight matrix of shape (m, n), b is a bias vector of length (n) and takes `x` from shape (b, m) to `y` with shape (b, n)."
   ]
  },
  {
   "cell_type": "code",
   "execution_count": 53,
   "metadata": {},
   "outputs": [
    {
     "data": {
      "text/plain": [
       "torch.Size([100, 16])"
      ]
     },
     "execution_count": 53,
     "metadata": {},
     "output_type": "execute_result"
    }
   ],
   "source": [
    "# TODO: Apply a Linear layer transformation to this feature matrix.\n",
    "# The resultant tensor, y, should have shape (100, 16)\n",
    "x = torch.randn(100, 32)\n",
    "\n",
    "w = torch.randn(32, 16)\n",
    "b = torch.randn(16)\n",
    "y = (x @ w) + b\n",
    "y.shape"
   ]
  },
  {
   "cell_type": "code",
   "execution_count": 58,
   "metadata": {},
   "outputs": [
    {
     "data": {
      "text/plain": [
       "torch.Size([3, 5, 7])"
      ]
     },
     "execution_count": 58,
     "metadata": {},
     "output_type": "execute_result"
    }
   ],
   "source": [
    "# TODO: Convert x to shape that is compatible with this matmul to result in a tensor of shape (3, 5, 7)\n",
    "x = torch.randn(3, 4, 5)\n",
    "w = torch.randn(4, 7)\n",
    "b = torch.randn(7)\n",
    "\n",
    "x = x.permute((0, 2, 1))\n",
    "\n",
    "y = x @ w + b\n",
    "y.shape"
   ]
  }
 ],
 "metadata": {
  "kernelspec": {
   "display_name": "datasci",
   "language": "python",
   "name": "python3"
  },
  "language_info": {
   "codemirror_mode": {
    "name": "ipython",
    "version": 3
   },
   "file_extension": ".py",
   "mimetype": "text/x-python",
   "name": "python",
   "nbconvert_exporter": "python",
   "pygments_lexer": "ipython3",
   "version": "3.11.5"
  },
  "orig_nbformat": 4
 },
 "nbformat": 4,
 "nbformat_minor": 2
}
