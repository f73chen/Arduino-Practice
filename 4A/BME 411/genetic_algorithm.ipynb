{
 "cells": [
  {
   "cell_type": "code",
   "execution_count": null,
   "metadata": {},
   "outputs": [],
   "source": [
    "import numpy as np\n",
    "\n",
    "import objective_function as obj"
   ]
  },
  {
   "cell_type": "markdown",
   "metadata": {},
   "source": [
    "### Chromosomes\n",
    "- Value encoding --> Each gene represents xij\n",
    "- Must be a non-negative integer\n",
    "\n",
    "### Natural selection: \n",
    "1. Proportional selection --> Chance proportional to fitness function\n",
    "2. Weighted relative fitness --> Chance proportional to the difference over the worst fitness\n",
    "3. Rank-based selection --> Near termination, chance proportional to rank\n",
    "4. Tournament selection --> Randomly select k1 parents then select k2 best parents among them\n",
    "\n",
    "### Crossover\n",
    "1. Multi-point crossover --> Switch whole sections\n",
    "2. Uniform crossover --> Choose each gene from a random parent\n",
    "3. Arithmetic mean crossover --> Mean of 2 numbers\n",
    "\n",
    "### Mutation\n",
    "1. Uniform mutation --> Change a single value up or down\n",
    "2. Swap/Scramble mutation --> Swap 2 values"
   ]
  },
  {
   "cell_type": "markdown",
   "metadata": {},
   "source": []
  }
 ],
 "metadata": {
  "language_info": {
   "name": "python"
  }
 },
 "nbformat": 4,
 "nbformat_minor": 2
}
