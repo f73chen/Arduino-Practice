{
 "cells": [
  {
   "cell_type": "code",
   "execution_count": null,
   "metadata": {},
   "outputs": [],
   "source": [
    "import heapq\n",
    "import numpy as np\n",
    "import networkx as nx\n",
    "\n",
    "import visualize"
   ]
  },
  {
   "cell_type": "code",
   "execution_count": null,
   "metadata": {},
   "outputs": [],
   "source": [
    "class Intersection:\n",
    "    def __init__(self, name, x, y,):\n",
    "        self.name = name\n",
    "        self.x = x\n",
    "        self.y = y\n",
    "        \n",
    "        self.g = np.inf         # Path cost\n",
    "        self.h = 0              # Heuristic cost\n",
    "        self.f = 0              # Total cost \n",
    "        \n",
    "        self.parent = None      # Parent node\n",
    "        self.connections = {}   # Neighbouring stations\n",
    "\n",
    "    def add_connection(self, intersection, cost):\n",
    "        self.connections[intersection] = cost\n",
    "\n",
    "    def __lt__(self, other):\n",
    "        return self.f < other.f"
   ]
  },
  {
   "cell_type": "code",
   "execution_count": null,
   "metadata": {},
   "outputs": [],
   "source": [
    "def generate_random_intersections(height, width, connection_chance, max_cost=50, seed=0):\n",
    "    # Create the intersection objects\n",
    "    np.random.seed(seed)\n",
    "    intersections = {}\n",
    "    name = 0\n",
    "    for i in range(height):\n",
    "        for j in range(width):\n",
    "            intersections[(i, j)] = Intersection(name=name, x=i, y=j)\n",
    "            name += 1\n",
    "\n",
    "    # Add connections between intersections\n",
    "    for i in range(height):\n",
    "        for j in range(width):\n",
    "            has_connection = False\n",
    "            while not has_connection:\n",
    "                if i > 0 and np.random.rand() < connection_chance:\n",
    "                    intersections[(i, j)].add_connection(intersections[(i-1, j)], cost=np.random.randint(1, max_cost))\n",
    "                    has_connection = True\n",
    "\n",
    "                if i < height - 1 and np.random.rand() < connection_chance:\n",
    "                    intersections[(i, j)].add_connection(intersections[(i+1, j)], cost=np.random.randint(1, max_cost/10))\n",
    "                    has_connection = True\n",
    "\n",
    "                if j > 0 and np.random.rand() < connection_chance:\n",
    "                    intersections[(i, j)].add_connection(intersections[(i, j-1)], cost=np.random.randint(1, max_cost))\n",
    "                    has_connection = True\n",
    "\n",
    "                if j < width - 1 and np.random.rand() < connection_chance:\n",
    "                    intersections[(i, j)].add_connection(intersections[(i, j+1)], cost=np.random.randint(1, max_cost/10))\n",
    "                    has_connection = True\n",
    "\n",
    "    return intersections"
   ]
  },
  {
   "cell_type": "code",
   "execution_count": null,
   "metadata": {},
   "outputs": [],
   "source": [
    "def get_heuristic(a, b):\n",
    "    \"\"\" \n",
    "    :param a: node object representing point 1\n",
    "    :param b: node object representing point 2\n",
    "\n",
    "    :return: Manhattan distance between two points\n",
    "    \"\"\"\n",
    "    return abs(a.x - b.x) + abs(a.y - b.y)"
   ]
  },
  {
   "cell_type": "code",
   "execution_count": null,
   "metadata": {},
   "outputs": [],
   "source": [
    "def astar(start, end):\n",
    "    \"\"\"\n",
    "    :param start: node object representing start point\n",
    "    :param end: node object representing end point\n",
    "\n",
    "    :return: the optimal path found\n",
    "    \"\"\"\n",
    "    open_list = []      # Potential nodes to explore\n",
    "    closed_list = []    # Nodes that have already been explored\n",
    "\n",
    "    heapq.heappush(open_list, start)\n",
    "    start.g = 0         # Starting station has 0 distance to itself\n",
    "\n",
    "    # Loop until you reach the end\n",
    "    while open_list:\n",
    "        # Explore the next frontier station (lowest f value)\n",
    "        curr = heapq.heappop(open_list)\n",
    "        closed_list.append(curr)\n",
    "\n",
    "        # If the end is found, work backwards to build the path\n",
    "        if curr == end:\n",
    "            path = []\n",
    "            while curr:\n",
    "                path.append(curr.name)\n",
    "                curr = curr.parent\n",
    "            return path[::-1]\n",
    "\n",
    "        # Else, update all neighbours\n",
    "        for next in curr.connections.keys():\n",
    "            # Don't explore any stations in the closed list\n",
    "            if next in closed_list:\n",
    "                continue\n",
    "\n",
    "            # Calculate the time to travel to the next station + wait time for switching lines\n",
    "            # If a shorter path to the next station is found, update its values\n",
    "            new_distance = curr.g + curr.connections[next]\n",
    "            if new_distance < next.g:\n",
    "                next.parent = curr\n",
    "                next.g = new_distance\n",
    "                next.h = get_heuristic(next, end)\n",
    "                next.f = next.g + next.h\n",
    "\n",
    "                # If the next station isn't in the open list (frontier), add it\n",
    "                if next not in open_list:\n",
    "                    heapq.heappush(open_list, next)\n",
    "\n",
    "    # Path not found\n",
    "    return None\n"
   ]
  },
  {
   "cell_type": "code",
   "execution_count": null,
   "metadata": {},
   "outputs": [],
   "source": [
    "np.random.seed(20827383)\n",
    "intersections = generate_random_intersections(height=8, width=10, max_cost=50, connection_chance=0.7, seed=10)"
   ]
  },
  {
   "cell_type": "code",
   "execution_count": null,
   "metadata": {},
   "outputs": [],
   "source": [
    "start = intersections[(0, 8)]\n",
    "stop = intersections[(6, 0)]\n",
    "path_astar = astar(start, stop)\n",
    "print(path_astar)"
   ]
  },
  {
   "cell_type": "code",
   "execution_count": null,
   "metadata": {},
   "outputs": [],
   "source": [
    "# Compute shortest path using Dijkstra's algorithm\n",
    "G = visualize.get_graph(intersections, plot=False, directed=True)\n",
    "\n",
    "path_cost_dijkstra, path_dijkstra = nx.single_source_dijkstra(G, source=8, target=60)\n",
    "path_cost_astar = sum(G[u][v]['weight'] for u, v in zip(path_astar[:-1], path_astar[1:]))\n",
    "\n",
    "print(f\"Shortest path using Dijkstra: {path_dijkstra}, cost: {path_cost_dijkstra}\")\n",
    "print(f\"Shortest path using A*: {path_astar}, cost: {path_cost_astar}\")\n",
    "\n",
    "visualize.draw_graph_path(G, intersections, path_dijkstra)\n"
   ]
  },
  {
   "cell_type": "code",
   "execution_count": null,
   "metadata": {},
   "outputs": [],
   "source": [
    "path_a_star = astar(intersections[(0, 0)], intersections[(5, 5)])\n",
    "print(\"Shortest path using A*:\", path_a_star)\n",
    "G = visualize.get_graph(intersections, plot=False, directed=True)\n",
    "visualize.draw_graph_path(G, intersections, path_a_star, directed=True)"
   ]
  },
  {
   "cell_type": "code",
   "execution_count": null,
   "metadata": {},
   "outputs": [],
   "source": []
  }
 ],
 "metadata": {
  "kernelspec": {
   "display_name": "Python 3 (ipykernel)",
   "language": "python",
   "name": "python3"
  },
  "language_info": {
   "codemirror_mode": {
    "name": "ipython",
    "version": 3
   },
   "file_extension": ".py",
   "mimetype": "text/x-python",
   "name": "python",
   "nbconvert_exporter": "python",
   "pygments_lexer": "ipython3",
   "version": "3.11.5"
  }
 },
 "nbformat": 4,
 "nbformat_minor": 4
}
