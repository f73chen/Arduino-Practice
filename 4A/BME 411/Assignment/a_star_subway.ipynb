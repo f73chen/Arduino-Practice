{
 "cells": [
  {
   "cell_type": "code",
   "execution_count": null,
   "id": "7df2cdf5-097d-4bc4-a5c2-57cc56b814bc",
   "metadata": {},
   "outputs": [],
   "source": [
    "import json\n",
    "import heapq\n",
    "import numpy as np"
   ]
  },
  {
   "cell_type": "code",
   "execution_count": null,
   "id": "7b0814a2-6e31-4f08-bdcd-3fd2e85a183a",
   "metadata": {},
   "outputs": [],
   "source": [
    "class Station:\n",
    "    def __init__(self, name, x, y):\n",
    "        self.name = name\n",
    "        self.x = x\n",
    "        self.y = y\n",
    "        \n",
    "        self.g = np.inf         # Path cost\n",
    "        self.h = 0              # Heuristic cost\n",
    "        self.f = 0              # Total cost \n",
    "        \n",
    "        self.parent = None      # Parent node\n",
    "        self.connections = {}   # Neighbouring stations\n",
    "\n",
    "    def add_connection(self, station, cost):\n",
    "        self.connections[station] = cost\n",
    "\n",
    "    def __lt__(self, other):\n",
    "        return self.f < other.f\n",
    "    \n",
    "    def __str__(self):\n",
    "        return self.name"
   ]
  },
  {
   "cell_type": "code",
   "execution_count": null,
   "metadata": {},
   "outputs": [],
   "source": [
    "def build_subway_graph():\n",
    "    subway = json.load(open('subway.json', 'r'))\n",
    "\n",
    "    # Turn stations into objects and store them by their names\n",
    "    stations = {}\n",
    "    for stop_name, stop_location in subway[\"locations\"].items():\n",
    "        station = Station(name = stop_name, x=stop_location[0], y=stop_location[1])\n",
    "        stations[stop_name] = station\n",
    "\n",
    "    # Add connections between stations\n",
    "    for line_name, line_attr in subway[\"lines\"].items():\n",
    "        travel_time = line_attr[\"travel_time\"]\n",
    "        wait_time = line_attr[\"wait_time\"]\n",
    "        stop_names = line_attr[\"stops\"]\n",
    "        for i in range(len(stop_names) - 1):\n",
    "            stations[stop_names[i]].add_connection(station=stations[stop_names[i+1]], cost=travel_time)\n",
    "            stations[stop_names[i+1]].add_connection(station=stations[stop_names[i]], cost=travel_time)\n",
    "\n",
    "    return stations\n",
    "\n",
    "stations = build_subway_graph()"
   ]
  },
  {
   "cell_type": "code",
   "execution_count": null,
   "metadata": {},
   "outputs": [],
   "source": [
    "def get_heuristic(a, b):\n",
    "    \"\"\" \n",
    "    :param a: node object representing point 1\n",
    "    :param b: node object representing point 2\n",
    "\n",
    "    :return: Euclidean distance between two points\n",
    "    \"\"\"\n",
    "    return np.sqrt((a.x - b.x)**2 + (a.y - b.y)**2)"
   ]
  },
  {
   "cell_type": "code",
   "execution_count": null,
   "id": "f27df8de-2bdf-40aa-9511-72c588c502da",
   "metadata": {},
   "outputs": [],
   "source": [
    "def astar(start, end):\n",
    "    \"\"\"\n",
    "    :param start: node object representing start point\n",
    "    :param end: node object representing end point\n",
    "\n",
    "    :return: the optimal path found\n",
    "    \"\"\"\n",
    "    open_list = []      # Potential nodes to explore\n",
    "    closed_list = []    # Nodes that have already been explored\n",
    "\n",
    "    heapq.heappush(open_list, start)\n",
    "    start.g = 0         # Starting station has 0 distance to itself\n",
    "\n",
    "    # Loop until you reach the end\n",
    "    while open_list:\n",
    "        # Explore the next frontier station (lowest f value)\n",
    "        curr = heapq.heappop(open_list)\n",
    "        closed_list.append(curr)\n",
    "\n",
    "        # If the end is found, work backwards to build the path\n",
    "        if curr == end:\n",
    "            path = []\n",
    "            while curr:\n",
    "                path.append(curr)\n",
    "                curr = curr.parent\n",
    "            return path[::-1]\n",
    "\n",
    "        # Else, update all neighbours\n",
    "        for next in curr.connections:\n",
    "            # Don't explore any stations in the closed list\n",
    "            if next in closed_list:\n",
    "                continue\n",
    "\n",
    "            # If a shorter path to the next station is found, update its values\n",
    "            new_distance = curr.g + curr.connections[next]\n",
    "            if new_distance < next.g:\n",
    "                next.parent = curr\n",
    "                next.g = new_distance\n",
    "                next.h = get_heuristic(next, end)\n",
    "                next.f = next.g + next.h\n",
    "\n",
    "                # If the next station isn't in the open list (frontier), add it\n",
    "                if next not in open_list:\n",
    "                    heapq.heappush(open_list, next)\n",
    "\n",
    "    # Path not found\n",
    "    return []"
   ]
  },
  {
   "cell_type": "code",
   "execution_count": null,
   "metadata": {},
   "outputs": [],
   "source": [
    "stations = build_subway_graph()\n",
    "path = astar(stations[\"stop 2\"], stations[\"stop 6\"])\n",
    "[station.name for station in path]"
   ]
  }
 ],
 "metadata": {
  "kernelspec": {
   "display_name": "Python 3 (ipykernel)",
   "language": "python",
   "name": "python3"
  },
  "language_info": {
   "codemirror_mode": {
    "name": "ipython",
    "version": 3
   },
   "file_extension": ".py",
   "mimetype": "text/x-python",
   "name": "python",
   "nbconvert_exporter": "python",
   "pygments_lexer": "ipython3",
   "version": "3.11.5"
  }
 },
 "nbformat": 4,
 "nbformat_minor": 5
}
