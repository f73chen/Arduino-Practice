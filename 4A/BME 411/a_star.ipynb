{
 "cells": [
  {
   "cell_type": "code",
   "execution_count": 4,
   "id": "7df2cdf5-097d-4bc4-a5c2-57cc56b814bc",
   "metadata": {},
   "outputs": [],
   "source": [
    "import numpy as np\n",
    "import pathfinding\n",
    "import heapq"
   ]
  },
  {
   "cell_type": "code",
   "execution_count": 5,
   "id": "7b0814a2-6e31-4f08-bdcd-3fd2e85a183a",
   "metadata": {},
   "outputs": [],
   "source": [
    "class Node:\n",
    "    def __init__(self, x, y):\n",
    "        self.x = x\n",
    "        self.y = y\n",
    "        \n",
    "        self.g = np.inf  # path cost\n",
    "        self.h = 0       # heuristic cost\n",
    "        self.f = 0       # total cost \n",
    "        \n",
    "        self.parent = None  # parent node\n",
    "\n",
    "    def __lt__(self, other):\n",
    "        return self.f < other.f"
   ]
  },
  {
   "cell_type": "code",
   "execution_count": 8,
   "id": "bdaff46b-7b27-4148-89f1-d4f6a10bc598",
   "metadata": {},
   "outputs": [],
   "source": [
    "start = Node(0, 0)\n",
    "test_list = [start]"
   ]
  },
  {
   "cell_type": "code",
   "execution_count": 9,
   "id": "34f173b1-3ae7-43fc-98b2-4b83343f6f4d",
   "metadata": {},
   "outputs": [
    {
     "name": "stdout",
     "output_type": "stream",
     "text": [
      "yes\n"
     ]
    }
   ],
   "source": [
    "if start in test_list:\n",
    "    print('yes')"
   ]
  },
  {
   "cell_type": "code",
   "execution_count": null,
   "id": "63a22248-3ecc-4178-a5d9-385dbdf8d996",
   "metadata": {},
   "outputs": [],
   "source": []
  },
  {
   "cell_type": "code",
   "execution_count": 17,
   "id": "f27df8de-2bdf-40aa-9511-72c588c502da",
   "metadata": {},
   "outputs": [],
   "source": [
    "def get_heuristic(a, b):\n",
    "    \"\"\" \n",
    "    :param a: node object representing point 1\n",
    "    :param b: node object representing point 2\n",
    "\n",
    "    :return: manhattan distance between two points\n",
    "    \"\"\"\n",
    "    return abs(a.x - b.x) + abs(a.y - b.y)  \n",
    "\n",
    "def get_neighbours(node, grid):\n",
    "    \"\"\"\n",
    "    :param node: node object to get neighbours from\n",
    "\n",
    "    :return: list of node objects representing neighbours \n",
    "    \"\"\"\n",
    "    neighbours = []\n",
    "    for dx, dy in [(0, -1), (0, 1), (-1, 0), (1, 0), (-1, -1), (-1, 1), (1, -1), (1, 1)]:\n",
    "        new_x, new_y = node.x + dx, node.y + dy\n",
    "        if 0 <= new_x < len(grid) and 0 <= new_y < len(grid[0]) and grid[new_x][new_y] != 1:\n",
    "            neighbours.append(Node(new_x, new_y))\n",
    "            \n",
    "    return neighbours\n",
    "\n",
    "def astar(grid, start_node, end_node):\n",
    "    \"\"\"\n",
    "    :param start: node object representing start point\n",
    "    :param end: node object representing end point\n",
    "\n",
    "    :return: the optimal path found\n",
    "    \"\"\"\n",
    "    open_list = [start_node]\n",
    "    closed_list = []\n",
    "\n",
    "    # Loop until you find the end\n",
    "    while len(open_list) > 0:\n",
    "\n",
    "        # Get the current node\n",
    "        cur_node = open_list[0]\n",
    "        cur_index = 0\n",
    "        for index, item in enumerate(open_list):\n",
    "            if item.f < cur_node.f:\n",
    "                cur_node = item\n",
    "                cur_index = index\n",
    "\n",
    "        # Pop current off open list, add to closed list\n",
    "        open_list.pop(cur_index)\n",
    "        closed_list.append(cur_node)\n",
    "\n",
    "        # Found the goal\n",
    "        if cur_node == end_node:\n",
    "            path = []\n",
    "            while current:\n",
    "                path.append((current.x, current.y))\n",
    "                current = current.parent\n",
    "            return path[::-1]\n",
    "\n",
    "        for child in get_neighbours(cur_node, grid):\n",
    "            # Child is on the closed list\n",
    "            if child in closed_list:\n",
    "                continue\n",
    "\n",
    "            # Create the f, g, and h values\n",
    "            child.g += 1\n",
    "            child.h = get_heuristic(child, end_node)\n",
    "            child.f = child.g + child.h\n",
    "\n",
    "            # Child is already in the open list\n",
    "            if child in open_list:\n",
    "                continue\n",
    "\n",
    "            # Add the child to the open list\n",
    "            open_list.append(child)"
   ]
  },
  {
   "cell_type": "code",
   "execution_count": null,
   "id": "722f48cb-dda2-4bea-bb38-42c317875002",
   "metadata": {},
   "outputs": [],
   "source": [
    "grid = [\n",
    "    [0, 0, 0, 0, 0],\n",
    "    [0, 1, 0, 1, 0],\n",
    "    [0, 0, 0, 0, 0],\n",
    "    [0, 1, 0, 1, 0],\n",
    "    [0, 0, 0, 0, 0]\n",
    "]\n",
    "\n",
    "start_node = Node(0, 0)\n",
    "end_node = Node(4, 4)\n",
    "\n",
    "path = astar(maze, start, end)\n",
    "print(path)"
   ]
  },
  {
   "cell_type": "code",
   "execution_count": null,
   "id": "b46ea8e7-cadd-4d7e-b47c-9484701e3fc4",
   "metadata": {},
   "outputs": [],
   "source": []
  }
 ],
 "metadata": {
  "kernelspec": {
   "display_name": "Python 3 (ipykernel)",
   "language": "python",
   "name": "python3"
  },
  "language_info": {
   "codemirror_mode": {
    "name": "ipython",
    "version": 3
   },
   "file_extension": ".py",
   "mimetype": "text/x-python",
   "name": "python",
   "nbconvert_exporter": "python",
   "pygments_lexer": "ipython3",
   "version": "3.11.5"
  }
 },
 "nbformat": 4,
 "nbformat_minor": 5
}
