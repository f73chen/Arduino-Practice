{
 "cells": [
  {
   "cell_type": "code",
   "execution_count": 1,
   "id": "d2765b19-17ed-4bdf-94e5-1bee0f2ddb48",
   "metadata": {
    "scrolled": true
   },
   "outputs": [],
   "source": [
    "import numpy as np\n",
    "import constants"
   ]
  },
  {
   "cell_type": "code",
   "execution_count": 86,
   "id": "2fc10596-488e-406f-aaea-ea4e96b5eb85",
   "metadata": {},
   "outputs": [],
   "source": [
    "T = constants.T  # number of minutes in a shift\n",
    "N = constants.N  # number of resource categories\n",
    "M = constants.M  # number of shifts\n",
    "p = constants.p  # patients matrix per resource per shift\n",
    "x = constants.x  # staff availability matrix\n",
    "t = constants.t  # time for resource matrix\n",
    "\n",
    "ARRIVAL_TIMES = constants.ARRIVAL_TIMES\n"
   ]
  },
  {
   "cell_type": "code",
   "execution_count": 99,
   "id": "080274d8-f8f1-4d77-bb33-34061583930c",
   "metadata": {},
   "outputs": [],
   "source": [
    "def simulation_by_shift(i, j, x, t, o):\n",
    "    \"\"\"\n",
    "    :param i: index of resource [0, 8]\n",
    "    :param j: index of shift [0, 2]\n",
    "    :param x: number of staff assigned to resource i in shift j\n",
    "    :param t: number of minutes it takes for resource i in shift j to serve 1 patient\n",
    "    :param o: number of patients overflow from previous shifts for resource i in shift j\n",
    "\n",
    "    :return: number of patients still waiting \n",
    "    \"\"\"\n",
    "    cur_waiting = o\n",
    "    staff_availability = dict([x, 0] for x in range(x)) # dict to hold minutes until free for each staff member\n",
    "\n",
    "    for minute in range(j*T, (j+1)*T):\n",
    "\n",
    "        if minute in ARRIVAL_TIMES[i]:\n",
    "            cur_waiting += 1\n",
    "\n",
    "        x_available = [k for k, v in staff_availability.items() if v == 0] # keys of staff that are free\n",
    "        if len(x_available) == 0 or minute + t > (j+1)*T:  # if no available staff or not enough time remaining in shift\n",
    "            pass \n",
    "        elif cur_waiting <= len(x_available):          # if enough staff to attend to number of patients waiting\n",
    "            for k in range(cur_waiting):\n",
    "                staff_availability[x_available[k]] = t\n",
    "                served_times[i].append(minute)\n",
    "            cur_waiting = 0\n",
    "        else:                                          # if less staff available than waiting patients\n",
    "            for k in x_available:\n",
    "                staff_availability[k] = t       \n",
    "                served_times[i].append(minute)\n",
    "            cur_waiting -= len(x_available)\n",
    "            \n",
    "        # decrement minutes until free at the end of each loop\n",
    "        for k in staff_availability.keys():\n",
    "            staff_availability[k] = max(0, staff_availability[k]-1)\n",
    "\n",
    "    return cur_waiting\n",
    "\n",
    "\n",
    "def simulation():\n",
    "    \"\"\"Runs simulation per shift for each resource\"\"\"\n",
    "    \n",
    "    served_times = [[] for _ in range(N)]\n",
    "    \n",
    "    for i in range(N):\n",
    "        o_1 = simulation_by_shift(i, 0, x[i][0], t[i][0], 0)\n",
    "        o_2 = simulation_by_shift(i, 1, x[i][1], t[i][1], o_1)\n",
    "        o_3 = simulation_by_shift(i, 2, x[i][2], t[i][2], o_2)\n",
    "\n",
    "        if o_3 != 0:\n",
    "            return np.inf\n",
    "\n",
    "        wait_times = [np.array(served_times[i]) - np.array(ARRIVAL_TIMES[i]) for i in range(N)]\n",
    "        \n",
    "        return np.sum([np.sum(wait_times[i]) for i in range(N)])\n",
    "\n",
    "\n",
    "def calculate_objective(x, c, d):\n",
    "    \"\"\"\n",
    "    :param x: matrix of number of staff working for each resource in each shift\n",
    "    :param c: matrix of costs for each resource in each shift\n",
    "    :param d: cost for a unit of wait time\n",
    "\n",
    "    \"\"\"\n",
    "    resource_cost = sum([c[i][j]*x[i][j] for j in range(M) for i in range(N)])\n",
    "    wait_cost = simulation()\n",
    "\n",
    "    return resource_cost + wait_cost\n",
    "            \n",
    "# TODO: make sure constraints are satisfied\n",
    "# TODO: add c and d to constants file     "
   ]
  },
  {
   "cell_type": "code",
   "execution_count": 100,
   "id": "a44af84b-c772-4022-9696-49906e9f72d2",
   "metadata": {},
   "outputs": [],
   "source": [
    "simulation()"
   ]
  },
  {
   "cell_type": "code",
   "execution_count": 98,
   "id": "c06205e1-0b11-4202-943a-a0e0f92c96e1",
   "metadata": {},
   "outputs": [],
   "source": [
    "served_times = [[] for _ in range(N)]"
   ]
  },
  {
   "cell_type": "code",
   "execution_count": null,
   "id": "8bccd9a1-666d-4688-89d1-8f1c4e513ef6",
   "metadata": {},
   "outputs": [],
   "source": [
    "[len(served_times[i]) for i in range(N)]"
   ]
  },
  {
   "cell_type": "code",
   "execution_count": 109,
   "id": "2b3bd4eb-9b1b-4ebc-af35-3e58a6cfec35",
   "metadata": {},
   "outputs": [],
   "source": [
    "test = [np.array(served_times[i]) - np.array(ARRIVAL_TIMES[i]) for i in range(N)]\n",
    "np.sum([np.sum(test[i]) for i in range(N)])"
   ]
  }
 ],
 "metadata": {
  "kernelspec": {
   "display_name": "Python 3 (ipykernel)",
   "language": "python",
   "name": "python3"
  },
  "language_info": {
   "codemirror_mode": {
    "name": "ipython",
    "version": 3
   },
   "file_extension": ".py",
   "mimetype": "text/x-python",
   "name": "python",
   "nbconvert_exporter": "python",
   "pygments_lexer": "ipython3",
   "version": "3.11.5"
  }
 },
 "nbformat": 4,
 "nbformat_minor": 5
}
