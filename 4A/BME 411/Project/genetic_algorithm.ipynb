{
 "cells": [
  {
   "cell_type": "code",
   "execution_count": null,
   "metadata": {},
   "outputs": [],
   "source": [
    "import numpy as np\n",
    "\n",
    "import objective_function as obj"
   ]
  },
  {
   "cell_type": "markdown",
   "metadata": {},
   "source": [
    "### Chromosomes\n",
    "- Value encoding --> Each gene represents xij\n",
    "- Must be a non-negative integer\n",
    "\n",
    "### Natural selection: \n",
    "1. Proportional selection --> Chance proportional to fitness function\n",
    "2. Weighted relative fitness --> Chance proportional to the difference over the worst fitness\n",
    "3. Rank-based selection --> Near termination, chance proportional to rank\n",
    "4. Tournament selection --> Randomly select k1 parents then select k2 best parents among them\n",
    "\n",
    "### Crossover\n",
    "1. Multi-point crossover --> Switch whole sections\n",
    "2. Uniform crossover --> Choose each xij from a random parent\n",
    "3. Arithmetic mean crossover --> Mean of 2 numbers\n",
    "\n",
    "### Mutation\n",
    "1. Start with multi-value mutation --> Shift multiple values up or down (more exploration)\n",
    "2. Transition to single value mutation --> Change only a single value (less exploration)"
   ]
  },
  {
   "cell_type": "code",
   "execution_count": null,
   "metadata": {},
   "outputs": [],
   "source": [
    "def evaluate_population_fitness(population, obj_func):\n",
    "    # Fitness evaluation\n",
    "    parents = []\n",
    "    obj_costs = []\n",
    "    for individual in population:\n",
    "        obj_cost, not_served, wait_exceeded = obj_func(individual)\n",
    "        if not not_served and not wait_exceeded:\n",
    "            parents.append(individual)\n",
    "            obj_costs.append(obj_cost)\n",
    "            \n",
    "    # Check for feasibility\n",
    "    if len(parents) < 2:\n",
    "        raise Exception(\"Error: Not enough feasible parents\")\n",
    "    \n",
    "    return parents, obj_costs"
   ]
  },
  {
   "cell_type": "code",
   "execution_count": null,
   "metadata": {},
   "outputs": [],
   "source": [
    "def natural_selection(pop_size, num_parents, parents, obj_costs, selection_mode):\n",
    "    # Convert to numpy arrays\n",
    "    parents = np.array(parents)\n",
    "    obj_costs = np.array(obj_costs)\n",
    "    fitness = 1/np.array(obj_costs)\n",
    "    chosen_parents = []\n",
    "    \n",
    "    # Selection chance proportional to fitness function\n",
    "    if selection_mode == \"proportional\":\n",
    "        relative_fitness = fitness / np.sum(fitness)\n",
    "        for child_idx in range(pop_size):\n",
    "            parent_idx = np.random.choice(np.arange(len(parents)), size=num_parents, p=relative_fitness)    # With replacement\n",
    "            chosen_parents.append(parents[parent_idx, :, :])\n",
    "    \n",
    "    # Selection chance proportional to the difference over the worst fitness\n",
    "    elif selection_mode == \"weighted_relative\":\n",
    "        fitness -= np.min(fitness)\n",
    "        relative_fitness = fitness / np.sum(fitness)\n",
    "        for child_idx in range(pop_size):\n",
    "            parent_idx = np.random.choice(np.arange(len(parents)), size=num_parents, p=relative_fitness)    # With replacement\n",
    "            chosen_parents.append(parents[parent_idx, :, :])\n",
    "    \n",
    "    # Selection chance proportional to rank\n",
    "    elif selection_mode == \"rank_based\":\n",
    "        rank = np.argsort(fitness)\n",
    "        relative_fitness = rank / np.sum(rank)\n",
    "        for child_idx in range(pop_size):\n",
    "            parent_idx = np.random.choice(np.arange(len(parents)), size=num_parents, p=relative_fitness)    # With replacement\n",
    "            chosen_parents.append(parents[parent_idx, :, :])\n",
    "    \n",
    "    # Randomly select k1 parents then select num_parents best parents among them\n",
    "    elif selection_mode == \"tournament\":\n",
    "        k1 = 0.5\n",
    "        k1_size = int(np.ceil(k1 * len(parents)))\n",
    "        for child_idx in range(pop_size):\n",
    "            k1_parent_idx = np.random.choice(np.arange(len(parents)), size=k1_size, replace=False)  # Without replacement\n",
    "            k1_fitness = fitness[k1_parent_idx]\n",
    "            parent_idx = k1_parent_idx[np.argsort(k1_fitness)[:num_parents]]\n",
    "            chosen_parents.append(parents[parent_idx, :, :])\n",
    "    \n",
    "    # Final shape (pop_size, num_parents, num_resources, num_shifts)\n",
    "    chosen_parents = np.array(chosen_parents)\n",
    "    return chosen_parents"
   ]
  },
  {
   "cell_type": "code",
   "execution_count": null,
   "metadata": {},
   "outputs": [],
   "source": [
    "def crossover(pop_size, num_resources, num_shifts, num_parents, chosen_parents, crossover_mode):\n",
    "    children = np.zeros((pop_size, num_resources, num_shifts))\n",
    "    \n",
    "    # Pick 1 resource type at a time (all 3 shifts)\n",
    "    if crossover_mode == \"multi_point\":\n",
    "        for child_idx in range(pop_size):\n",
    "            for resource_idx in range(num_resources):\n",
    "                parent_idx = np.random.randint(num_parents)\n",
    "                children[child_idx, resource_idx, :] = chosen_parents[child_idx, parent_idx, resource_idx, :]\n",
    "    \n",
    "    # Choose each xij from a random parent\n",
    "    elif crossover_mode == \"uniform\":\n",
    "        for child_idx in range(pop_size):\n",
    "            for resource_idx in range(num_resources):\n",
    "                for shift_idx in range(num_shifts):\n",
    "                    parent_idx = np.random.randint(num_parents)\n",
    "                    children[child_idx, resource_idx, shift_idx] = chosen_parents[child_idx, parent_idx, resource_idx, shift_idx]\n",
    "    \n",
    "    # Mean of all chosen parents\n",
    "    elif crossover_mode == \"arithmetic_mean\":\n",
    "        for child_idx in range(pop_size):\n",
    "            for resource_idx in range(num_resources):\n",
    "                for shift_idx in range(num_shifts):\n",
    "                    children[child_idx, resource_idx, shift_idx] = int(np.mean(chosen_parents[child_idx, :, resource_idx, shift_idx]))\n",
    "                    \n",
    "    return children"
   ]
  },
  {
   "cell_type": "code",
   "execution_count": null,
   "metadata": {},
   "outputs": [],
   "source": [
    "def mutation():\n",
    "    pass"
   ]
  },
  {
   "cell_type": "code",
   "execution_count": null,
   "metadata": {},
   "outputs": [],
   "source": [
    "def genetic_algorithm(pop_size=10, num_resources=9, num_shifts=3, \n",
    "                      x_init_min=1, x_init_max=10, num_iterations=10,\n",
    "                      obj_func=obj.calculate_objective, num_parents=2, \n",
    "                      selection_mode=\"proportional\", crossover_mode=\"multi_point\", mutation_mode=\"uniform\",\n",
    "                      exploration_rate=1, seed=None):\n",
    "    if seed is not None:\n",
    "        np.random.seed(seed)\n",
    "    \n",
    "    # Initialize the population\n",
    "    # Note: around half of the population is feasible using range [1, 10]\n",
    "    population = np.random.randint(x_init_min, x_init_max, size=(pop_size, num_resources, num_shifts))\n",
    "    \n",
    "    for iteration in range(num_iterations):\n",
    "        parents, obj_costs = evaluate_population_fitness(population.astype(int), obj_func)\n",
    "        print(\"Iteration: {} | Best obj: {}\".format(iteration, np.min(obj_costs)))\n",
    "        chosen_parents = natural_selection(pop_size, num_parents, parents, obj_costs, selection_mode)\n",
    "        children = crossover(pop_size, num_resources, num_shifts, num_parents, chosen_parents, crossover_mode)\n",
    "        population = children\n",
    "    \n",
    "genetic_algorithm(selection_mode=\"proportional\", crossover_mode=\"uniform\")"
   ]
  },
  {
   "cell_type": "markdown",
   "metadata": {},
   "source": []
  }
 ],
 "metadata": {
  "kernelspec": {
   "display_name": "bme411",
   "language": "python",
   "name": "python3"
  },
  "language_info": {
   "codemirror_mode": {
    "name": "ipython",
    "version": 3
   },
   "file_extension": ".py",
   "mimetype": "text/x-python",
   "name": "python",
   "nbconvert_exporter": "python",
   "pygments_lexer": "ipython3",
   "version": "3.11.5"
  }
 },
 "nbformat": 4,
 "nbformat_minor": 2
}
