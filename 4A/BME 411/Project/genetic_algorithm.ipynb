{
 "cells": [
  {
   "cell_type": "code",
   "execution_count": 1,
   "metadata": {},
   "outputs": [],
   "source": [
    "import numpy as np\n",
    "\n",
    "import objective_function as obj"
   ]
  },
  {
   "cell_type": "code",
   "execution_count": 10,
   "metadata": {},
   "outputs": [
    {
     "data": {
      "text/plain": [
       "(inf, True, False)"
      ]
     },
     "execution_count": 10,
     "metadata": {},
     "output_type": "execute_result"
    }
   ],
   "source": [
    "x = np.array([[4, 4, 2],\n",
    "              [8, 9, 4],\n",
    "              [20, 20, 10],\n",
    "              [1, 1, 1],\n",
    "              [2, 2, 2],\n",
    "              [1, 1, 1],\n",
    "              [1, 1, 1],\n",
    "              [2, 2, 2],\n",
    "              [2, 2, 2]])\n",
    "\n",
    "obj.calculate_objective(x=x*10)"
   ]
  },
  {
   "cell_type": "code",
   "execution_count": null,
   "metadata": {},
   "outputs": [],
   "source": [
    "def genetic_algorithm():\n",
    "    pass"
   ]
  },
  {
   "cell_type": "markdown",
   "metadata": {},
   "source": [
    "### Chromosomes\n",
    "- Value encoding --> Each gene represents xij\n",
    "- Must be a non-negative integer\n",
    "\n",
    "### Natural selection: \n",
    "1. Proportional selection --> Chance proportional to fitness function\n",
    "2. Weighted relative fitness --> Chance proportional to the difference over the worst fitness\n",
    "3. Rank-based selection --> Near termination, chance proportional to rank\n",
    "4. Tournament selection --> Randomly select k1 parents then select k2 best parents among them\n",
    "\n",
    "### Crossover\n",
    "1. Multi-point crossover --> Switch whole sections\n",
    "2. Uniform crossover --> Choose each gene from a random parent\n",
    "3. Arithmetic mean crossover --> Mean of 2 numbers\n",
    "\n",
    "### Mutation\n",
    "1. Uniform mutation --> Change a single value up or down\n",
    "2. Swap/Scramble mutation --> Swap 2 values"
   ]
  },
  {
   "cell_type": "markdown",
   "metadata": {},
   "source": []
  }
 ],
 "metadata": {
  "kernelspec": {
   "display_name": "bme411",
   "language": "python",
   "name": "python3"
  },
  "language_info": {
   "codemirror_mode": {
    "name": "ipython",
    "version": 3
   },
   "file_extension": ".py",
   "mimetype": "text/x-python",
   "name": "python",
   "nbconvert_exporter": "python",
   "pygments_lexer": "ipython3",
   "version": "3.11.5"
  }
 },
 "nbformat": 4,
 "nbformat_minor": 2
}
