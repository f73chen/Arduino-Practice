{
 "cells": [
  {
   "cell_type": "markdown",
   "metadata": {},
   "source": [
    "# SYDE 556/750 --- Assignment 3\n",
    "**Student ID: 20823934**\n",
    "\n",
    "*Note:* Please include your numerical student ID only, do *not* include your name.\n",
    "\n",
    "*Note:* Refer to the [PDF](https://github.com/celiasmith/syde556-f22/raw/master/assignments/assignment_03/syde556_assignment_03.pdf) for the full instructions (including some hints), this notebook contains abbreviated instructions only. Cells you need to fill out are marked with a \"writing hand\" symbol. Of course, you can add new cells in between the instructions, but please leave the instructions intact to facilitate marking."
   ]
  },
  {
   "cell_type": "code",
   "execution_count": null,
   "metadata": {},
   "outputs": [],
   "source": [
    "# Import numpy and matplotlib -- you shouldn't need any other libraries\n",
    "import numpy as np\n",
    "import matplotlib.pyplot as plt\n",
    "\n",
    "# Fix the numpy random seed for reproducible results\n",
    "np.random.seed(18945)\n",
    "\n",
    "# Some formating options\n",
    "%config InlineBackend.figure_formats = ['svg']"
   ]
  },
  {
   "cell_type": "markdown",
   "metadata": {},
   "source": [
    "# 1. Decoding from a population\n",
    "\n",
    "**a) Tuning curves.** Plot the tuning curves (firing rate of each neuron for different $x$ values between $-2$ and $2$)."
   ]
  },
  {
   "cell_type": "code",
   "execution_count": null,
   "metadata": {},
   "outputs": [],
   "source": [
    "\"\"\" Set up the variables \"\"\"\n",
    "\n",
    "N = 100         # Number of samples per neuron\n",
    "n = 20          # Number of neurons\n",
    "r = 2           # Radius\n",
    "tau_ref = 0.002 # 2 ms\n",
    "tau_rc = 0.02   # 20 ms\n",
    "np.random.seed(0)\n",
    "\n",
    "x = np.linspace(-2, 2, N)                               # x-axis\n",
    "a_max = np.random.uniform(low=100, high=200, size=n)    # Firing rates\n",
    "xi = np.random.uniform(low=-2, high=2, size=n)          # x-intercepts\n",
    "e = np.random.choice([-1, 1], size=n)                   # Encoder directions\n",
    "\n",
    "\"\"\" Compute alpha and J^bias \"\"\"\n",
    "\n",
    "def G_inverse(a):\n",
    "    return 1 / (1 - np.exp((tau_ref - 1/a)/(tau_rc)))\n",
    "\n",
    "def G(J):\n",
    "    if J > 1:\n",
    "        return 1 / (tau_ref - tau_rc * np.log(1 - 1/J))\n",
    "    else:\n",
    "        return 0\n",
    "G_vec = np.vectorize(G)\n",
    "\n",
    "# Slightly change the formula for alpha to account for the radius\n",
    "alpha = (G_inverse(a_max) - 1) / (r - xi)\n",
    "J_bias = 1 - alpha * xi\n",
    "\n",
    "\"\"\" Calculate the tuning curves \"\"\"\n",
    "\n",
    "A = []\n",
    "for i in range(n):\n",
    "    a = G_vec(e[i] * alpha[i] * x + J_bias[i])\n",
    "    A.append(a)\n",
    "A = np.array(A)\n",
    "\n",
    "\"\"\" Plotting the curves \"\"\"\n",
    "\n",
    "def plot_A(x, A):\n",
    "    for i in range(A.shape[0]):\n",
    "        plt.plot(x, A[i])\n",
    "\n",
    "    plt.title(f\"{A.shape[0]} LIF Tuning Curves\")\n",
    "    plt.xlabel(\"Represented Value x\")\n",
    "    plt.ylabel(\"Firing Rate (Hz)\")\n",
    "    plt.show()\n",
    "\n",
    "plot_A(x, A)"
   ]
  },
  {
   "cell_type": "markdown",
   "metadata": {},
   "source": [
    "**b) Decoder and error computation.** Compute the decoders and plot $(x-\\hat{x})$. When computing decoders, take into account noise ($\\sigma=0.1 \\cdot 200\\,\\mathrm{Hz}$). When computing $\\hat{x}$, add random Gaussian noise with $\\sigma=0.1 \\cdot 200\\,\\mathrm{Hz}$ to the activity. Report the Root Mean-Squared Error (RMSE)."
   ]
  },
  {
   "cell_type": "code",
   "execution_count": null,
   "metadata": {},
   "outputs": [],
   "source": [
    "def plot_decoder_error(x, D, A):\n",
    "    # Compute the decoded value\n",
    "    x_hat = D @ A\n",
    "\n",
    "    # Report the RMSE\n",
    "    rmse = np.sqrt(np.mean((x_hat - x)**2))\n",
    "    rmse = round(rmse, 3)\n",
    "    print(f\"RMSE: {rmse}\")\n",
    "\n",
    "    # Plot the error\n",
    "    plt.plot(x, x - x_hat)\n",
    "    plt.title(\"Error x - $\\\\hat{x}$\")\n",
    "    plt.xlabel(\"Original x\")\n",
    "    plt.ylabel(\"Decoder Error\")\n",
    "    plt.show()\n",
    "\n",
    "    return rmse\n",
    "\n",
    "# Generate the noise\n",
    "np.random.seed(0)\n",
    "mu = 0\n",
    "sigma = 0.1 * 200\n",
    "noise = np.random.normal(mu, sigma, A.shape)\n",
    "\n",
    "# Add noise to the activities but don't allow negative firing rates\n",
    "A_noisy = np.maximum(A + noise, 0)\n",
    "plot_A(x, A_noisy)\n",
    "\n",
    "# Find the regularized decoder\n",
    "D_reg = A @ x @ np.linalg.inv(A @ A.T + N * np.square(sigma) * np.eye(n))\n",
    "\n",
    "# Plot the decoded signal and report the RMSE\n",
    "_ = plot_decoder_error(x, D_reg, A_noisy)"
   ]
  },
  {
   "cell_type": "markdown",
   "metadata": {},
   "source": [
    "# 2. Decoding from two spiking neurons\n",
    "\n",
    "**a) Synaptic filter.** Plot the post-synaptic current\n",
    "\t\t$$\n",
    "\t\t\th(t)= \\begin{cases}\n",
    "\t\t\t\t0 & \\text{if } t < 0 \\,, \\\\\n",
    "\t\t\t\t\\frac{e^{-t/\\tau}}{\\int_0^\\infty e^{-t'/\\tau} \\mathrm{d}t'} & \\text{otherwise} \\,.\n",
    "\t\t\t\\end{cases}\n",
    "\t\t$$"
   ]
  },
  {
   "cell_type": "code",
   "execution_count": null,
   "metadata": {},
   "outputs": [],
   "source": [
    "# ✍ <YOUR SOLUTION HERE>"
   ]
  },
  {
   "cell_type": "markdown",
   "metadata": {},
   "source": [
    "**b) Decoding using a synaptic filter.** Plot the original signal $x(t)$, the spikes, and the decoded $\\hat{x}(t)$ all on the same graph."
   ]
  },
  {
   "cell_type": "code",
   "execution_count": null,
   "metadata": {},
   "outputs": [],
   "source": [
    "# ✍ <YOUR SOLUTION HERE>"
   ]
  },
  {
   "cell_type": "markdown",
   "metadata": {},
   "source": [
    "**c) Error analysis.** Compute the RMSE of the decoding."
   ]
  },
  {
   "cell_type": "code",
   "execution_count": null,
   "metadata": {},
   "outputs": [],
   "source": [
    "# ✍ <YOUR SOLUTION HERE>"
   ]
  },
  {
   "cell_type": "markdown",
   "metadata": {},
   "source": [
    "# 3. Decoding from many neurons\n",
    "\n",
    "**a) Exploring the error for an increasing neuron count.** Plot the Root Mean-Squared Error as the number of neurons increases, on a log-log plot. Try $8$ neurons, $16$ neurons, $32$, $64$, $128$, up to $256$. For the RMSE for a particular number of neurons, average over at least $5$ randomly generated groups of neurons. For each group of neurons, randomly generate the signal $x(t)$. Use the same parameters as in question 2."
   ]
  },
  {
   "cell_type": "code",
   "execution_count": null,
   "metadata": {},
   "outputs": [],
   "source": [
    "# ✍ <YOUR SOLUTION HERE>"
   ]
  },
  {
   "cell_type": "markdown",
   "metadata": {},
   "source": [
    "**b) Discussion.** Discuss your results. What is the systematic relationship between the neuron count and the error?"
   ]
  },
  {
   "cell_type": "markdown",
   "metadata": {},
   "source": [
    "✍ \\<YOUR SOLUTION HERE\\>"
   ]
  },
  {
   "cell_type": "markdown",
   "metadata": {},
   "source": [
    "# 4. Connecting two groups of neurons\n",
    "\n",
    "**a) Computing a function.** Show the behaviour of the system with an input of $x(t)=t-1$ for $1\\,\\mathrm{s}$ (a linear ramp from $-1$ to $0$). Plot the ideal $x(t)$ and $y(t)$ values, along with $\\hat{y}(t)$."
   ]
  },
  {
   "cell_type": "code",
   "execution_count": null,
   "metadata": {},
   "outputs": [],
   "source": [
    "# ✍ <YOUR SOLUTION HERE>"
   ]
  },
  {
   "cell_type": "markdown",
   "metadata": {},
   "source": [
    "**b) Step input.** Repeat part (a) with an input that is ten randomly chosen values between -1 and 0, each one held for 0.1 seconds (a randomly varying step input)"
   ]
  },
  {
   "cell_type": "code",
   "execution_count": null,
   "metadata": {},
   "outputs": [],
   "source": [
    "# ✍ <YOUR SOLUTION HERE>"
   ]
  },
  {
   "cell_type": "markdown",
   "metadata": {},
   "source": [
    "**c) Sinusoidal input.** Repeat part (a) with an input that is $x(t)=0.2\\sin(6\\pi t)$."
   ]
  },
  {
   "cell_type": "code",
   "execution_count": null,
   "metadata": {},
   "outputs": [],
   "source": [
    "# ✍ <YOUR SOLUTION HERE>"
   ]
  },
  {
   "cell_type": "markdown",
   "metadata": {},
   "source": [
    "**d) Discussion.** Briefly discuss the results for this question. Does the output match the ideal output? What kind of deviations do you see and why do those exist?"
   ]
  },
  {
   "cell_type": "markdown",
   "metadata": {},
   "source": [
    "✍ \\<YOUR SOLUTION HERE\\>"
   ]
  },
  {
   "cell_type": "markdown",
   "metadata": {},
   "source": [
    "# 5. Connecting three groups of neurons\n",
    "\n",
    "**a) Sinusoidal input.** Plot $x(t)$, $y(t)$, the ideal $z(t)$, and the decoded $\\hat{z}(t)$ for an input of $x(t)=\\cos(3\\pi t)$ and $y(t)=0.5 \\sin (2 \\pi t)$ (over $1\\,\\mathrm{s}$)."
   ]
  },
  {
   "cell_type": "code",
   "execution_count": null,
   "metadata": {},
   "outputs": [],
   "source": [
    "# ✍ <YOUR SOLUTION HERE>"
   ]
  },
  {
   "cell_type": "markdown",
   "metadata": {},
   "source": [
    "**b) Random input.** Plot $x(t)$, $y(t)$, the ideal $z(t)$, and the decoded $\\hat{z}(t)$ for a random input over $1\\,\\mathrm{s}$. For $x(t)$ use a random signal with a limit of $8\\,\\mathrm{Hz}$ and $\\mathtt{rms}=1$. For $y(t)$ use a random signal with a limit of $5\\,\\mathrm{Hz}$ and $\\mathtt{rms}=0.5$."
   ]
  },
  {
   "cell_type": "code",
   "execution_count": null,
   "metadata": {},
   "outputs": [],
   "source": [
    "# ✍ <YOUR SOLUTION HERE>"
   ]
  },
  {
   "cell_type": "markdown",
   "metadata": {},
   "source": [
    "# 6. Computing with vectors\n",
    "\n",
    "**a) Constant inputs.** Plot the decoded output $\\hat{w}(t)$ and the ideal $w$ for\n",
    "\t\t$$x =(0.5,1), \\quad y = (0.1,0.3), \\quad z =(0.2,0.1), \\quad q = (0.4,-0.2) \\,.$$"
   ]
  },
  {
   "cell_type": "code",
   "execution_count": null,
   "metadata": {},
   "outputs": [],
   "source": [
    "# ✍ <YOUR SOLUTION HERE>"
   ]
  },
  {
   "cell_type": "markdown",
   "metadata": {},
   "source": [
    "**b) Sinusoidal input.** Produce the same plot for\n",
    "$$x =(0.5,1), \\quad y = (\\sin(4\\pi t),0.3), \\quad z =(0.2,0.1), \\quad q = (\\sin(4\\pi t),-0.2) \\,.$$"
   ]
  },
  {
   "cell_type": "code",
   "execution_count": null,
   "metadata": {},
   "outputs": [],
   "source": [
    "# ✍ <YOUR SOLUTION HERE>"
   ]
  },
  {
   "cell_type": "markdown",
   "metadata": {},
   "source": [
    "**c) Discussion.** Describe your results and discuss why and how they stray from the expected answer."
   ]
  },
  {
   "cell_type": "markdown",
   "metadata": {},
   "source": [
    "✍ \\<YOUR SOLUTION HERE\\>"
   ]
  }
 ],
 "metadata": {
  "kernelspec": {
   "display_name": "Python 3 (ipykernel)",
   "language": "python",
   "name": "python3"
  },
  "language_info": {
   "codemirror_mode": {
    "name": "ipython",
    "version": 3
   },
   "file_extension": ".py",
   "mimetype": "text/x-python",
   "name": "python",
   "nbconvert_exporter": "python",
   "pygments_lexer": "ipython3",
   "version": "3.8.18"
  }
 },
 "nbformat": 4,
 "nbformat_minor": 4
}
