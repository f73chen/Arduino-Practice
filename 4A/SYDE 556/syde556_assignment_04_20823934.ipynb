{
 "cells": [
  {
   "cell_type": "markdown",
   "metadata": {},
   "source": [
    "# SYDE 556/750 --- Assignment 4\n",
    "**Student ID: 20823934**\n",
    "\n",
    "*Note:* Please include your numerical student ID only, do *not* include your name.\n",
    "\n",
    "*Note:* Refer to the [PDF](https://github.com/celiasmith/syde556-f22/raw/master/assignments/assignment_04/syde556_assignment_04.pdf) for the full instructions (including some hints), this notebook contains abbreviated instructions only. Cells you need to fill out are marked with a \"writing hand\" symbol. Of course, you can add new cells in between the instructions, but please leave the instructions intact to facilitate marking."
   ]
  },
  {
   "cell_type": "code",
   "execution_count": null,
   "metadata": {},
   "outputs": [],
   "source": [
    "# Import numpy and matplotlib\n",
    "import numpy as np\n",
    "import matplotlib.pyplot as plt\n",
    "\n",
    "# Import nengo and some helper functions for Q1\n",
    "import nengo\n",
    "from nengo.utils.ensemble import tuning_curves\n",
    "from nengo.utils.connection import eval_point_decoding\n",
    "\n",
    "# Fix the numpy random seed for reproducible results\n",
    "np.random.seed(18945)\n",
    "\n",
    "# Some formating options\n",
    "%config InlineBackend.figure_formats = ['svg']"
   ]
  },
  {
   "cell_type": "markdown",
   "metadata": {},
   "source": [
    "# 1. Building an ensemble of neurons"
   ]
  },
  {
   "cell_type": "markdown",
   "metadata": {},
   "source": [
    "**a) Tuning curves.** Plot the population tuning curves. Plot the representation accuracy plot ($x - \\hat{x}$). Compute and report the RMSE."
   ]
  },
  {
   "cell_type": "code",
   "execution_count": null,
   "metadata": {},
   "outputs": [],
   "source": [
    "TAU_RC = 0.02   # 20 ms\n",
    "TAU_REF = 0.002 # 2 ms\n",
    "SIGMA = 20      # 0.1 * 200 Hz"
   ]
  },
  {
   "cell_type": "code",
   "execution_count": null,
   "metadata": {},
   "outputs": [],
   "source": [
    "def q1_ensemble(radius, seed=0):\n",
    "    # Generate the 1D network\n",
    "    model = nengo.Network()\n",
    "    with model:\n",
    "        a = nengo.Ensemble(n_neurons=100,                           # 100 neurons\n",
    "                           dimensions=1,                            # 1-dimensional space\n",
    "                           intercepts=nengo.dists.Uniform(-1, 1),   # x-intercepts between -1 and 1\n",
    "                           max_rates=nengo.dists.Uniform(100, 200), # max firing rates between 100 and 200 Hz\n",
    "                           radius=radius,                           # radius\n",
    "                           seed=seed)                               # random seed\n",
    "        \n",
    "        a_a = nengo.Connection(a, a)\n",
    "\n",
    "    # Simulate the tuning curves\n",
    "    with nengo.Simulator(model) as sim:\n",
    "        tuning_x, activities = tuning_curves(a, sim)\n",
    "\n",
    "    # Calculate the representation accuracy and sort them by eval_points\n",
    "    eval_points, targets, decoded = eval_point_decoding(a_a, sim, eval_points=None)\n",
    "    sorted_zipped = sorted(zip(eval_points, targets, decoded), key=lambda x: x[0])\n",
    "    eval_points, targets, decoded = zip(*sorted_zipped)\n",
    "    eval_points = np.array(eval_points)\n",
    "    targets = np.array(targets)\n",
    "    decoded = np.array(decoded)\n",
    "\n",
    "    # Compute the RMSE\n",
    "    rmse = np.sqrt(np.mean((targets - decoded)**2))\n",
    "\n",
    "    return tuning_x, activities, targets, decoded, rmse\n",
    "    \n",
    "def q1a():\n",
    "    tuning_x, activities, targets, decoded, rmse = q1_ensemble(radius=1, seed=0)\n",
    "\n",
    "    # Plot the tuning curves\n",
    "    plt.figure()\n",
    "    plt.plot(tuning_x, activities)\n",
    "    plt.title(\"Tuning curves for 100 neurons\")\n",
    "    plt.xlabel(\"Input x\")\n",
    "    plt.ylabel(\"Firing rate (Hz)\")\n",
    "    plt.show()\n",
    "\n",
    "    # Plot the representation accuracy\n",
    "    plt.figure()\n",
    "    plt.plot(targets, targets - decoded)\n",
    "    plt.title(\"Representation accuracy (x - x_hat)\")\n",
    "    plt.xlabel(\"Input x\")\n",
    "    plt.ylabel(\"x - x_hat\")\n",
    "    plt.show()\n",
    "    \n",
    "    # Report the RMSE\n",
    "    print(\"RMSE: %0.3f\" % rmse)\n",
    "\n",
    "q1a()"
   ]
  },
  {
   "cell_type": "markdown",
   "metadata": {},
   "source": [
    "**b) RMSE and radius.** Compute the RMSE for (at least) the four different radii $0.5$, $1$, $2$, and $4$. Plot your results. Make sure your neurons have the same (relative, i.e., scaled by the radius) $x$-intercepts and maximum rates across all experiments."
   ]
  },
  {
   "cell_type": "code",
   "execution_count": null,
   "metadata": {},
   "outputs": [],
   "source": [
    "def q1b():\n",
    "    # Calulate RMSE for different radii\n",
    "    radii = [2 ** power for power in range(-1, 3)]\n",
    "    rmses = []\n",
    "    for radius in radii:\n",
    "        tuning_x, activities, targets, decoded, rmse = q1_ensemble(radius=radius, seed=0)\n",
    "        rmses.append(rmse)\n",
    "\n",
    "    # Plot RMSE vs. radius\n",
    "    plt.figure()\n",
    "    plt.plot(radii, rmses)\n",
    "    plt.title(\"RMSE vs. radius\")\n",
    "    plt.xlabel(\"Radius\")\n",
    "    plt.ylabel(\"RMSE\")\n",
    "    plt.show()\n",
    "\n",
    "    # Calculate y=mx+b\n",
    "    m = (rmses[-1] - rmses[0]) / (radii[-1] - radii[0])\n",
    "    b = rmses[0] - m * radii[0]\n",
    "    print(f\"RMSE = {m:.3f} * radius + {b:.3f}\")\n",
    "    print(f\"Slope: {m:.6f}, RMSE at radius 1: {rmses[1]:.6f}\")\n",
    "    \n",
    "q1b()"
   ]
  },
  {
   "cell_type": "markdown",
   "metadata": {},
   "source": [
    "**c) Discussion.** What mathematical relationship between the radius and the RMSE do you observe (write down an equation)? Explain why this is the case."
   ]
  },
  {
   "cell_type": "markdown",
   "metadata": {},
   "source": [
    "✍ \\<YOUR SOLUTION HERE\\>"
   ]
  },
  {
   "cell_type": "markdown",
   "metadata": {},
   "source": [
    "**d) RMSE and refractory period.** What happens to the RMSE and the tuning curves as $\\tau_\\mathrm{ref}$ changes between $1$ and $5\\,\\mathrm{ms}$? Plot the tuning curves for at least four different $\\tau_\\mathrm{ref}$ and produce a plot showing the RMSE over $\\tau_\\mathrm{ref}$. Again, make sure to use the same neuron ensemble parameters in all your trials."
   ]
  },
  {
   "cell_type": "code",
   "execution_count": null,
   "metadata": {},
   "outputs": [],
   "source": [
    "# ✍ <YOUR SOLUTION HERE>"
   ]
  },
  {
   "cell_type": "markdown",
   "metadata": {},
   "source": [
    "**e) RMSE and membrane time constant.** What happens to the RMSE and the tuning curves as $\\tau_\\mathrm{RC}$ changes between $10$ and $100\\,\\mathrm{ms}$? Plot the tuning curves for at least four different $\\tau_\\mathrm{RC}$ and produce a plot showing the RMSE over $\\tau_\\mathrm{RC}$.  Again, make sure to use the same neuron ensemble parameters in all your trials."
   ]
  },
  {
   "cell_type": "code",
   "execution_count": null,
   "metadata": {},
   "outputs": [],
   "source": [
    "# ✍ <YOUR SOLUTION HERE>"
   ]
  },
  {
   "cell_type": "markdown",
   "metadata": {},
   "source": [
    "**f) Discussion.** Discuss the last two results. Describe what happens to the tuning curves as $\\tau_\\mathrm{ref}$ and $\\tau_\\mathrm{RC}$ change (you do not need to come up with a mathematical relationship here). Explain why the change in tuning curve shape influences the RMSE in the way you observe."
   ]
  },
  {
   "cell_type": "markdown",
   "metadata": {},
   "source": [
    "✍ \\<YOUR SOLUTION HERE\\>"
   ]
  },
  {
   "cell_type": "markdown",
   "metadata": {},
   "source": [
    "# 2. Connecting neurons\n",
    "\n",
    "**a) Computing the identity function.** Show the input value and the decoded values from the two  ensembles in three separate plots. Run the simulation for $0.5\\,\\mathrm{s}$."
   ]
  },
  {
   "cell_type": "code",
   "execution_count": null,
   "metadata": {},
   "outputs": [],
   "source": [
    "# ✍ <YOUR SOLUTION HERE>"
   ]
  },
  {
   "cell_type": "markdown",
   "metadata": {},
   "source": [
    "**b) Computing an affine transformation.** Make a new version of the model where instead of computing the identity function, it computes $y(t) = 1 - 2x(t)$. Show the same graphs as in part (a)."
   ]
  },
  {
   "cell_type": "code",
   "execution_count": null,
   "metadata": {},
   "outputs": [],
   "source": [
    "# ✍ <YOUR SOLUTION HERE>"
   ]
  },
  {
   "cell_type": "markdown",
   "metadata": {},
   "source": [
    "# 3. Dynamics\n",
    "\n",
    "**a) Transforming the dynamical system.** Rewrite the linear dynamical system describing the integrator in terms of $\\frac{\\mathrm{d}\\vec x(t)}{\\mathrm{d}t} = \\mathbf{A} \\mathbf{x} + \\mathbf{B} \\mathbf{u}$, i.e., write down the matrices $\\mathbf{A}$ and $\\mathbf{B}$ (you can just use the equations from class, you do not have to re-derive the equations) What are the matrices $\\mathbf{A}'$ and $\\mathbf{B}'$ we have to use when implementing this system using the recurrent connection post-synaptic filter?"
   ]
  },
  {
   "cell_type": "markdown",
   "metadata": {},
   "source": [
    "✍ \\<YOUR SOLUTION HERE\\>"
   ]
  },
  {
   "cell_type": "markdown",
   "metadata": {},
   "source": [
    "**b) Integrator using spiking neurons.**  Show the input, the ideal integral, and the value represented by the ensemble when the input is a value of $0.9$ from $t=0.04$ to $t=1.0$ (and $0$ for other times). Run the simulation for $1.5\\,\\mathrm{s}$."
   ]
  },
  {
   "cell_type": "code",
   "execution_count": null,
   "metadata": {},
   "outputs": [],
   "source": [
    "# ✍ <YOUR SOLUTION HERE>"
   ]
  },
  {
   "cell_type": "markdown",
   "metadata": {},
   "source": [
    "**c) Discussion.** What is the expected ideal result, i.e., if we just mathematically computed the integral of the input, what is the equation describing the integral? How does the simulated output compare to that ideal?"
   ]
  },
  {
   "cell_type": "markdown",
   "metadata": {},
   "source": [
    "✍ \\<YOUR SOLUTION HERE\\>"
   ]
  },
  {
   "cell_type": "markdown",
   "metadata": {},
   "source": [
    "**d) Simulation using rate neurons.** Change the neural simulation to rate mode. Re-run the simulation in rate mode. Show the resulting plots."
   ]
  },
  {
   "cell_type": "code",
   "execution_count": null,
   "metadata": {},
   "outputs": [],
   "source": [
    "# ✍ <YOUR SOLUTION HERE>"
   ]
  },
  {
   "cell_type": "markdown",
   "metadata": {},
   "source": [
    "**e) Discussion.** How does this compare to the result in part (b)? What deviations from the ideal do you still observe? Where do those deviations come from?"
   ]
  },
  {
   "cell_type": "markdown",
   "metadata": {},
   "source": [
    "✍ \\<YOUR SOLUTION HERE\\>"
   ]
  },
  {
   "cell_type": "markdown",
   "metadata": {},
   "source": [
    "**f) Integration of a shorter input pulse.** Returning to spiking mode, change the input to be a value of $0.9$ from $t=0.04$ to $0.16$. Show the same plots as before (the input, the ideal, and the value represented by the ensemble over $1.5\\,\\mathrm{s}$)."
   ]
  },
  {
   "cell_type": "code",
   "execution_count": null,
   "metadata": {},
   "outputs": [],
   "source": [
    "# ✍ <YOUR SOLUTION HERE>"
   ]
  },
  {
   "cell_type": "markdown",
   "metadata": {},
   "source": [
    "**g) Discussion.** How does this compare to (b)? What is the ideal equation? Does it work as intended? If not, why is it better or worse?"
   ]
  },
  {
   "cell_type": "markdown",
   "metadata": {},
   "source": [
    "✍ \\<YOUR SOLUTION HERE\\>"
   ]
  },
  {
   "cell_type": "markdown",
   "metadata": {},
   "source": [
    "**h) Input ramp.** Change the input to a ramp input from $0$ to $0.9$ from $t=0$ to $t=0.45$ (and $0$ for $t>0.45$). Show the same plots as in the previous parts of this question."
   ]
  },
  {
   "cell_type": "code",
   "execution_count": null,
   "metadata": {},
   "outputs": [],
   "source": [
    "# ✍ <YOUR SOLUTION HERE>"
   ]
  },
  {
   "cell_type": "markdown",
   "metadata": {},
   "source": [
    "**i) Discussion.** What does the ensemble end up representing, and why? What is the (ideal) equation for the curve traced out by the ensemble?"
   ]
  },
  {
   "cell_type": "markdown",
   "metadata": {},
   "source": [
    "✍ \\<YOUR SOLUTION HERE\\>"
   ]
  },
  {
   "cell_type": "markdown",
   "metadata": {},
   "source": [
    "**j) Sinusoidal input.** Change the input to $5\\sin(5t)$. Show the same plots as before."
   ]
  },
  {
   "cell_type": "code",
   "execution_count": null,
   "metadata": {},
   "outputs": [],
   "source": [
    "# ✍ <YOUR SOLUTION HERE>"
   ]
  },
  {
   "cell_type": "markdown",
   "metadata": {},
   "source": [
    "**k) Discussion.** What should the value represented by the ensemble be? Write the equation. How well does it do? What are the differences between the model's behaviour and the expected ideal behaviour and why do these differences occur?"
   ]
  },
  {
   "cell_type": "markdown",
   "metadata": {},
   "source": [
    "✍ \\<YOUR SOLUTION HERE\\>"
   ]
  },
  {
   "cell_type": "markdown",
   "metadata": {},
   "source": [
    "**l) 🌟 Bonus question.** Implement a nonlinear dynamical system we have not seen in class (and that is not in the book). Demonstrate that it's working as expected"
   ]
  },
  {
   "cell_type": "markdown",
   "metadata": {},
   "source": [
    "✍ \\<YOUR SOLUTION HERE\\>"
   ]
  },
  {
   "cell_type": "code",
   "execution_count": null,
   "metadata": {},
   "outputs": [],
   "source": [
    "# ✍ <YOUR SOLUTION HERE>"
   ]
  }
 ],
 "metadata": {
  "kernelspec": {
   "display_name": "Python 3 (ipykernel)",
   "language": "python",
   "name": "python3"
  },
  "language_info": {
   "codemirror_mode": {
    "name": "ipython",
    "version": 3
   },
   "file_extension": ".py",
   "mimetype": "text/x-python",
   "name": "python",
   "nbconvert_exporter": "python",
   "pygments_lexer": "ipython3",
   "version": "3.8.18"
  }
 },
 "nbformat": 4,
 "nbformat_minor": 4
}
