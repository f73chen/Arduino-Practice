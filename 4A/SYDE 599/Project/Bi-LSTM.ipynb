{
 "cells": [
  {
   "cell_type": "code",
   "execution_count": null,
   "metadata": {},
   "outputs": [],
   "source": [
    "import torch\n",
    "import torch.nn as nn\n",
    "import torch.optim as optim\n",
    "import pandas as pd"
   ]
  },
  {
   "cell_type": "code",
   "execution_count": null,
   "metadata": {},
   "outputs": [],
   "source": [
    "# Constants for the RNA sequence\n",
    "VOCAB_SIZE = 5\n",
    "VOCAB = {'A': 0,\n",
    "         'T': 1,\n",
    "         'G': 2,\n",
    "         'C': 3,\n",
    "         'U': 4}\n",
    "SEQ_LEN = 10\n",
    "\n",
    "# Constants for the model\n",
    "EPOCHS = 5"
   ]
  },
  {
   "cell_type": "code",
   "execution_count": null,
   "metadata": {},
   "outputs": [],
   "source": [
    "# Loading the data\n",
    "def load_training_data(filename):\n",
    "    df = pd.read_csv(filename)\n",
    "\n",
    "    # Get the reactivity columns and convert them into a list\n",
    "    reactivity_columns = [col for col in df.columns if col.startswith('reactivity_0')]\n",
    "    df['reactivity'] = df[reactivity_columns].values.tolist()\n",
    "\n",
    "    # Select the columns of interest\n",
    "    result_df = df.loc[:, ['sequence', 'experiment_type', 'reactivity']]\n",
    "    \n",
    "    return result_df\n",
    "\n",
    "train_df = load_training_data('data/train_data_QUICK_START.csv')\n",
    "train_df.head()"
   ]
  },
  {
   "cell_type": "code",
   "execution_count": null,
   "metadata": {},
   "outputs": [],
   "source": [
    "# One hot encode the sequence and pad to a fixed length\n",
    "def one_hot_encode(sequence):\n",
    "    encoding = torch.zeros(VOCAB_SIZE, SEQ_LEN)\n",
    "    for i, nucleotide in enumerate(sequence):\n",
    "        encoding[VOCAB[nucleotide], i] = 1\n",
    "    return encoding\n",
    "\n",
    "# Example usage\n",
    "sequence = \"ATTGCUT\"\n",
    "encoded_seq = one_hot_encode(sequence)"
   ]
  },
  {
   "cell_type": "code",
   "execution_count": null,
   "metadata": {},
   "outputs": [],
   "source": [
    "# Define the Bi-LSTM model\n",
    "class BiLSTM(nn.Module):\n",
    "    def __init__(self, vocab_size, hidden_dim, output_dim, n_layers, bidirectional=True):\n",
    "        super(BiLSTM, self).__init__()\n",
    "        self.hidden_dim = hidden_dim\n",
    "        self.n_layers = n_layers\n",
    "        self.lstm = nn.LSTM(vocab_size, hidden_dim, num_layers=n_layers, bidirectional=bidirectional, batch_first=True)\n",
    "        self.fc = nn.Linear(hidden_dim * 2, output_dim)\n",
    "\n",
    "    def forward(self, x):\n",
    "        h0 = torch.zeros(self.n_layers * 2, x.size(0), self.hidden_dim).to(x.device)  # Initial hidden state\n",
    "        c0 = torch.zeros(self.n_layers * 2, x.size(0), self.hidden_dim).to(x.device)  # Initial cell state\n",
    "        \n",
    "        out, _ = self.lstm(x, (h0, c0))\n",
    "        out = self.fc(out)\n",
    "        return out\n",
    "    \n",
    "model = BiLSTM(VOCAB_SIZE, hidden_dim=50, output_dim=1, n_layers=2)\n",
    "loss_fn = nn.MSELoss()\n",
    "optimizer = optim.Adam(model.parameters(), lr=0.001)"
   ]
  },
  {
   "cell_type": "code",
   "execution_count": null,
   "metadata": {},
   "outputs": [],
   "source": [
    "# Train the model\n",
    "for epoch in range(EPOCHS):\n",
    "    model.train()\n",
    "    optimizer.zero_grad()\n",
    "    \n",
    "    # Assuming 'encoded_seq' is your input tensor and 'target' is your actual output\n",
    "    output = model(encoded_seq.unsqueeze(0))  # Add batch dimension\n",
    "    loss = loss_fn(output, target)\n",
    "    \n",
    "    loss.backward()\n",
    "    optimizer.step()"
   ]
  },
  {
   "cell_type": "code",
   "execution_count": null,
   "metadata": {},
   "outputs": [],
   "source": [
    "# Make predictions\n",
    "model.eval()\n",
    "with torch.no_grad():\n",
    "    prediction = model(encoded_seq.unsqueeze(0))\n",
    "    print(prediction.squeeze().tolist())"
   ]
  }
 ],
 "metadata": {
  "kernelspec": {
   "display_name": "syde599",
   "language": "python",
   "name": "python3"
  },
  "language_info": {
   "codemirror_mode": {
    "name": "ipython",
    "version": 3
   },
   "file_extension": ".py",
   "mimetype": "text/x-python",
   "name": "python",
   "nbconvert_exporter": "python",
   "pygments_lexer": "ipython3",
   "version": "3.11.5"
  }
 },
 "nbformat": 4,
 "nbformat_minor": 2
}
