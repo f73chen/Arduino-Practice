{
 "cells": [
  {
   "cell_type": "code",
   "execution_count": null,
   "metadata": {},
   "outputs": [],
   "source": [
    "import pandas as pd\n",
    "import numpy as np\n",
    "import torch\n",
    "import torch.nn as nn\n",
    "import torch.optim as optim\n",
    "from torch.utils.data import DataLoader, TensorDataset\n",
    "from sklearn.model_selection import train_test_split"
   ]
  },
  {
   "cell_type": "code",
   "execution_count": null,
   "metadata": {},
   "outputs": [],
   "source": [
    "# Constants for the RNA sequence\n",
    "FILENAME = \"data/train_data_QUICK_START.csv\"\n",
    "VOCAB_SIZE = 5\n",
    "VOCAB = {'A': 0,\n",
    "         'T': 1,\n",
    "         'G': 2,\n",
    "         'C': 3,\n",
    "         'U': 4}\n",
    "SEQ_LEN = 206\n",
    "EXPERIMENT_TYPE = \"2A3_MaP\" # DMS_MaP\n",
    "\n",
    "# Constants for the model\n",
    "TEST_SIZE = 0.2\n",
    "EPOCHS = 5\n",
    "BATCH_SIZE = 32"
   ]
  },
  {
   "cell_type": "code",
   "execution_count": null,
   "metadata": {},
   "outputs": [],
   "source": [
    "# Read the CSV file and split it into train & test sets\n",
    "def load_csv_data(filename=FILENAME, test_size=TEST_SIZE):\n",
    "    df = pd.read_csv(filename)\n",
    "    df = df.iloc[:1000, :]\n",
    "\n",
    "    # Only load one experiment type at a time\n",
    "    df = df[df['experiment_type'] == EXPERIMENT_TYPE]\n",
    "\n",
    "    # Reformat the reactivity columns\n",
    "    reactivity_columns = [col for col in df.columns if col.startswith('reactivity_0')]\n",
    "    df['reactivity'] = df[reactivity_columns].values.tolist()\n",
    "\n",
    "    # Select the relevant columns\n",
    "    clean_df = df.loc[:, ['sequence', 'reactivity']]\n",
    "\n",
    "    # Split into train and test sets\n",
    "    train_df, test_df = train_test_split(clean_df, test_size=test_size)\n",
    "    return train_df, test_df\n",
    "\n",
    "train_df, test_df = load_csv_data()"
   ]
  },
  {
   "cell_type": "code",
   "execution_count": null,
   "metadata": {},
   "outputs": [],
   "source": [
    "# One hot encode the sequence and pad it to a fixed length\n",
    "def one_hot_encode(sequence):\n",
    "    encoding = torch.zeros(SEQ_LEN, VOCAB_SIZE)\n",
    "    for i, nucleotide in enumerate(sequence):\n",
    "        encoding[i, VOCAB[nucleotide]] = 1\n",
    "    return encoding\n",
    "\n",
    "# Convert sequences and reactivities to tensors\n",
    "def df_to_tensor(df):\n",
    "    # Apply padded one-hot encoding to the sequences\n",
    "    encoded_sequences = df['sequence'].apply(one_hot_encode)\n",
    "\n",
    "    # Convert to tensors and standardize the shape\n",
    "    sequences_tensor = torch.stack(encoded_sequences.tolist())\n",
    "    reactivities_tensor = torch.tensor(df['reactivity'].values.tolist(), dtype=torch.float32)\n",
    "    reactivities_tensor = reactivities_tensor.unsqueeze(-1)\n",
    "\n",
    "    return TensorDataset(sequences_tensor, reactivities_tensor)\n",
    "\n",
    "train_data = df_to_tensor(train_df)\n",
    "test_data = df_to_tensor(test_df)\n",
    "\n",
    "train_loader = DataLoader(train_data, batch_size=BATCH_SIZE, shuffle=True)\n",
    "test_loader = DataLoader(test_data, batch_size=BATCH_SIZE, shuffle=False)"
   ]
  },
  {
   "cell_type": "code",
   "execution_count": null,
   "metadata": {},
   "outputs": [],
   "source": [
    "# Define the Bi-LSTM model\n",
    "class BiLSTM(nn.Module):\n",
    "    def __init__(self, vocab_size, hidden_dim, output_dim, n_layers, bidirectional=True):\n",
    "        super(BiLSTM, self).__init__()\n",
    "        self.hidden_dim = hidden_dim\n",
    "        self.n_layers = n_layers\n",
    "        self.lstm = nn.LSTM(vocab_size, hidden_dim, num_layers=n_layers, bidirectional=bidirectional, batch_first=True)\n",
    "        self.fc = nn.Linear(hidden_dim * 2, output_dim)\n",
    "\n",
    "    def forward(self, x):\n",
    "        h0 = torch.zeros(self.n_layers * 2, x.size(0), self.hidden_dim).to(x.device)  # Initial hidden state\n",
    "        c0 = torch.zeros(self.n_layers * 2, x.size(0), self.hidden_dim).to(x.device)  # Initial cell state\n",
    "        \n",
    "        out, _ = self.lstm(x, (h0, c0))\n",
    "        out = self.fc(out)\n",
    "        return out\n",
    "    \n",
    "model = BiLSTM(VOCAB_SIZE, hidden_dim=50, output_dim=1, n_layers=2)\n",
    "loss_fn = nn.MSELoss()\n",
    "optimizer = optim.Adam(model.parameters(), lr=0.001)"
   ]
  },
  {
   "cell_type": "code",
   "execution_count": null,
   "metadata": {},
   "outputs": [],
   "source": [
    "# Training loop\n",
    "for epoch in range(EPOCHS):\n",
    "    total_loss = 0\n",
    "    for sequences, reactivities in train_loader:\n",
    "        model.train()\n",
    "        optimizer.zero_grad()\n",
    "        outputs = model(sequences)\n",
    "\n",
    "        loss = loss_fn(outputs, reactivities)\n",
    "        total_loss += loss.item()\n",
    "        loss.backward()\n",
    "        optimizer.step()\n",
    "    print(f\"Epoch {epoch+1}, Loss: {total_loss/len(train_loader)}\")"
   ]
  }
 ],
 "metadata": {
  "kernelspec": {
   "display_name": "syde599",
   "language": "python",
   "name": "python3"
  },
  "language_info": {
   "codemirror_mode": {
    "name": "ipython",
    "version": 3
   },
   "file_extension": ".py",
   "mimetype": "text/x-python",
   "name": "python",
   "nbconvert_exporter": "python",
   "pygments_lexer": "ipython3",
   "version": "3.11.5"
  }
 },
 "nbformat": 4,
 "nbformat_minor": 2
}
