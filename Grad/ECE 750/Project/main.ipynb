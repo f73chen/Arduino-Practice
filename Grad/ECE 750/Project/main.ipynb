{
 "cells": [
  {
   "cell_type": "code",
   "execution_count": null,
   "metadata": {},
   "outputs": [],
   "source": [
    "import gymnasium as gym\n",
    "import highway_env\n",
    "import ale_py\n",
    "\n",
    "from option_critic import OptionCriticFeatures\n",
    "from attention_option_critic import AOCFeatures"
   ]
  },
  {
   "cell_type": "code",
   "execution_count": null,
   "metadata": {},
   "outputs": [],
   "source": [
    "# from highway_env.envs.intersection_env import IntersectionEnv\n",
    "# intersection_config = IntersectionEnv.default_config()\n",
    "# intersection_config[\"observation\"][\"flatten\"] = True"
   ]
  },
  {
   "cell_type": "code",
   "execution_count": null,
   "metadata": {},
   "outputs": [],
   "source": [
    "# Feature input, Discrete action space\n",
    "ENV_NAME = \"CartPole-v1\"      # (4,) --> 2\n",
    "# ENV_NAME = \"LunarLander-v3\"     # (8,) --> 4\n",
    "# ENV_NAME = \"highway-fast-v0\"  # (5, 5) --> 5\n",
    "# ENV_NAME = \"intersection-v0\"  # (15, 7) --> 3\n",
    "\n",
    "# Feature input, Continuous action space\n",
    "# ENV_NAME = \"intersection-v1\"  # (5, 8) --> -1, 1, (2,)\n",
    "# ENV_NAME = \"racetrack-v0\"     # (2, 12, 12)\n",
    "\n",
    "# Image input, Discrete action space\n",
    "# ENV_NAME = \"ALE/Pong-v5\"    # (210, 160, 3)\n",
    "\n",
    "# RENDER_MODE = \"rgb_array\"\n",
    "RENDER_MODE = \"human\"\n",
    "\n",
    "TOTAL_TIMESTEPS = int(1e5)\n",
    "ENV_TYPE = \"cartpole\"\n",
    "MODEL_TYPE = \"aoc\""
   ]
  },
  {
   "cell_type": "code",
   "execution_count": null,
   "metadata": {},
   "outputs": [],
   "source": [
    "env = gym.make(ENV_NAME)\n",
    "obs, info = env.reset()"
   ]
  },
  {
   "cell_type": "code",
   "execution_count": null,
   "metadata": {},
   "outputs": [],
   "source": [
    "if MODEL_TYPE == \"aoc\":\n",
    "    aoc = AOCFeatures(env=env, \n",
    "                    num_options=2, \n",
    "                    epsilon_decay=int(1e5),\n",
    "                    learning_rate=1e-5,\n",
    "                    batch_size=128,\n",
    "                    tensorboard_log=f\"results/{ENV_TYPE}_{MODEL_TYPE}/\")\n",
    "\n",
    "    aoc.learn(total_timesteps=TOTAL_TIMESTEPS)\n",
    "    aoc.save(f\"results/{ENV_TYPE}_{MODEL_TYPE}/model\")\n",
    "    aoc.load(f\"results/{ENV_TYPE}_{MODEL_TYPE}/model\")\n",
    "\n",
    "    env = gym.make(ENV_NAME, render_mode=RENDER_MODE)\n",
    "    obs, info = env.reset()\n",
    "    aoc.testing = True\n",
    "    for episode in range(10):\n",
    "        done = truncated = False\n",
    "        obs, info = env.reset()\n",
    "        option = None\n",
    "        option_termination = True\n",
    "        while not (done or truncated):\n",
    "            option, action, logp, entropy = aoc.predict(obs, option, option_termination, deterministic=True)\n",
    "            option_termination = aoc.get_option_termination(obs, option)\n",
    "            obs, reward, done, truncated, info = env.step(action)\n",
    "            env.render()\n",
    "    env.close()"
   ]
  },
  {
   "cell_type": "code",
   "execution_count": null,
   "metadata": {},
   "outputs": [],
   "source": [
    "if MODEL_TYPE == \"oc\":\n",
    "    oc = OptionCriticFeatures(env=env, \n",
    "                            num_options=2, \n",
    "                            device=\"cpu\",\n",
    "                            temperature=1.0,\n",
    "                            epsilon_start=1.0,\n",
    "                            epsilon_min=0.1,\n",
    "                            epsilon_decay=int(1e5),\n",
    "                            epsilon_test=0.05,\n",
    "                            gamma=0.95,\n",
    "                            tau=1.0,\n",
    "                            termination_reg=0.01,\n",
    "                            entropy_reg = 0.01,\n",
    "                            hidden_size=32,\n",
    "                            state_size=64,\n",
    "                            learning_rate=0.005,\n",
    "                            batch_size=64,\n",
    "                            critic_freq=10,\n",
    "                            target_update_freq=10,\n",
    "                            buffer_size=10000,\n",
    "                            tensorboard_log=f\"results/{ENV_TYPE}_{MODEL_TYPE}/\",\n",
    "                            testing=False\n",
    "                            )\n",
    "\n",
    "    oc.learn(total_timesteps=TOTAL_TIMESTEPS)\n",
    "    oc.save(f\"results/{ENV_TYPE}_{MODEL_TYPE}/model\")\n",
    "    oc.load(f\"results/{ENV_TYPE}_{MODEL_TYPE}/model\")\n",
    "\n",
    "    env = gym.make(ENV_NAME, render_mode=RENDER_MODE)\n",
    "    obs, info = env.reset()\n",
    "    oc.testing = True\n",
    "    for episode in range(10):\n",
    "        done = truncated = False\n",
    "        obs, info = env.reset()\n",
    "        option = None\n",
    "        option_termination = True\n",
    "        while not (done or truncated):\n",
    "            option, action, logp, entropy = oc.predict(obs, option, option_termination, deterministic=True)\n",
    "            option_termination = oc.get_option_termination(obs, option)\n",
    "            obs, reward, done, truncated, info = env.step(action)\n",
    "            env.render()\n",
    "    env.close()"
   ]
  }
 ],
 "metadata": {
  "kernelspec": {
   "display_name": "highway",
   "language": "python",
   "name": "python3"
  },
  "language_info": {
   "name": "python",
   "version": "3.11.10"
  }
 },
 "nbformat": 4,
 "nbformat_minor": 2
}
