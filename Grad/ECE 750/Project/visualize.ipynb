{
 "cells": [
  {
   "cell_type": "code",
   "execution_count": null,
   "metadata": {},
   "outputs": [],
   "source": [
    "import gymnasium as gym\n",
    "import highway_env\n",
    "import ale_py\n",
    "\n",
    "from option_critic import OptionCriticFeatures\n",
    "from attention_option_critic import AOCFeatures"
   ]
  },
  {
   "cell_type": "code",
   "execution_count": null,
   "metadata": {},
   "outputs": [],
   "source": [
    "# from highway_env.envs.intersection_env import IntersectionEnv\n",
    "# intersection_config = IntersectionEnv.default_config()\n",
    "# intersection_config[\"observation\"][\"flatten\"] = True"
   ]
  },
  {
   "cell_type": "code",
   "execution_count": null,
   "metadata": {},
   "outputs": [],
   "source": [
    "# Feature input, Discrete action space\n",
    "ENV_NAME = \"CartPole-v1\"      # (4,) --> 2\n",
    "# ENV_NAME = \"LunarLander-v3\"     # (8,) --> 4\n",
    "# ENV_NAME = \"highway-fast-v0\"  # (5, 5) --> 5\n",
    "# ENV_NAME = \"intersection-v0\"  # (15, 7) --> 3\n",
    "\n",
    "# Feature input, Continuous action space\n",
    "# ENV_NAME = \"intersection-v1\"  # (5, 8) --> -1, 1, (2,)\n",
    "# ENV_NAME = \"racetrack-v0\"     # (2, 12, 12)\n",
    "\n",
    "# Image input, Discrete action space\n",
    "# ENV_NAME = \"ALE/Pong-v5\"    # (210, 160, 3)\n",
    "\n",
    "# RENDER_MODE = \"rgb_array\"\n",
    "RENDER_MODE = \"human\"\n",
    "\n",
    "TOTAL_TIMESTEPS = int(1e5)\n",
    "ENV_TYPE = \"cartpole\"\n",
    "MODEL_TYPE = \"aoc\""
   ]
  },
  {
   "cell_type": "code",
   "execution_count": null,
   "metadata": {},
   "outputs": [],
   "source": [
    "# Visualize primitive action distribution per option (heatmap)\n"
   ]
  }
 ],
 "metadata": {
  "kernelspec": {
   "display_name": "aoc",
   "language": "python",
   "name": "python3"
  },
  "language_info": {
   "name": "python",
   "version": "3.10.0"
  }
 },
 "nbformat": 4,
 "nbformat_minor": 2
}
