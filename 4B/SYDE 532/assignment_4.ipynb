{
 "cells": [
  {
   "cell_type": "markdown",
   "metadata": {},
   "source": [
    "Problem 8.10: Numerical/Computational—Spatial Models\n",
    "We would like to implement a the forest-fire model of Table 8.3. At each point in time, each cell can be one of three states: { ash, tree, burning }.\n",
    "\n",
    "1. Start with a 200 by 200 grid of ash as the state Z0 at iteration 0.\n",
    "2. Given the state map Zn, then at iteration n + 1...\n",
    "    - Each tree in Zn becomes burning at random with probability f\n",
    "    - Any tree in Zn next to burning in Zn is burning in Zn+1\n",
    "    - Any burning in Zn becomes ash in Zn+1\n",
    "    - Each ash in Zn becomes tree at random with probability p\n",
    "\n",
    "So p is a measure of forest growth rate, and f is a measure of the likelihood of\n",
    "lightning strikes. The key parameter controlling the scale of the resulting burns\n",
    "is the ratio f/p.\n",
    "\n",
    "Set p = 0.01. Run simulations for f = 0.0001, f = 0.001, and f = 0.01.\n",
    "Discuss your observations."
   ]
  },
  {
   "cell_type": "code",
   "execution_count": 9,
   "metadata": {},
   "outputs": [],
   "source": [
    "import numpy as np\n",
    "import matplotlib.pyplot as plt\n",
    "import ipywidgets as widgets"
   ]
  },
  {
   "cell_type": "code",
   "execution_count": 10,
   "metadata": {},
   "outputs": [],
   "source": [
    "def forest_fire_simulation(p=0.01, f=0.0001, size=200, iterations=100):\n",
    "    # Start with a 200 by 200 grid of ash as the state Z0 at iteration 0\n",
    "    Zn = np.zeros((size, size))\n",
    "    Zs = [Zn.copy()]\n",
    "\n",
    "    for iter in range(iterations):\n",
    "        Zn1 = Zn.copy()\n",
    "        for i in range(size):\n",
    "            for j in range(size):\n",
    "                # Each tree in Zn becomes burning at random with probability f\n",
    "                if Zn[i, j] == 1 and np.random.rand() < f:\n",
    "                    Zn1[i, j] = 2\n",
    "\n",
    "                # Any tree in Zn next to burning in Zn is burning in Zn+1\n",
    "                if Zn[i, j] == 1:\n",
    "                    if i > 0 and Zn[i-1, j] == 2:\n",
    "                        Zn1[i, j] = 2\n",
    "                    elif i < size-1 and Zn[i+1, j] == 2:\n",
    "                        Zn1[i, j] = 2\n",
    "                    elif j > 0 and Zn[i, j-1] == 2:\n",
    "                        Zn1[i, j] = 2\n",
    "                    elif j < size-1 and Zn[i, j+1] == 2:\n",
    "                        Zn1[i, j] = 2\n",
    "\n",
    "                # Any burning in Zn becomes ash in Zn+1\n",
    "                if Zn[i, j] == 2:\n",
    "                    Zn1[i, j] = 0\n",
    "\n",
    "                # Each ash in Zn becomes tree at random with probability p\n",
    "                if Zn[i, j] == 0 and np.random.rand() < p:\n",
    "                        Zn1[i, j] = 1\n",
    "\n",
    "        # Update the state and record it\n",
    "        Zn = Zn1\n",
    "        Zs.append(Zn.copy())\n",
    "\n",
    "    return Zs"
   ]
  },
  {
   "cell_type": "code",
   "execution_count": 11,
   "metadata": {},
   "outputs": [
    {
     "data": {
      "application/vnd.jupyter.widget-view+json": {
       "model_id": "a6f9728a746848a1bb1c3b4aa7fb22ce",
       "version_major": 2,
       "version_minor": 0
      },
      "text/plain": [
       "interactive(children=(IntSlider(value=0, description='i'), Output()), _dom_classes=('widget-interact',))"
      ]
     },
     "metadata": {},
     "output_type": "display_data"
    }
   ],
   "source": [
    "def plot_Z(Z):\n",
    "    colour_map = np.array([[0.5, 0.5, 0.5],  # Ash --> Gray \n",
    "                           [0, 1, 0],        # Tree --> Green\n",
    "                           [1, 0, 0]])       # Fire --> Red\n",
    "    coloured_Z = colour_map[Z.astype(int)]\n",
    "    plt.imshow(coloured_Z)\n",
    "    plt.axis('off')\n",
    "\n",
    "def interactive_plot(Zs):\n",
    "    def plot_iteration(i=0):\n",
    "        plt.figure(figsize=(8, 8))\n",
    "        plot_Z(Zs[i])\n",
    "        plt.show()\n",
    "\n",
    "    slider = widgets.IntSlider(min=0, max=len(Zs)-1, step=1, value=0)\n",
    "    widgets.interact(plot_iteration, i=slider)\n",
    "\n",
    "Zs = forest_fire_simulation(p=0.01, f=0.0001, size=200, iterations=100)\n",
    "interactive_plot(Zs)"
   ]
  },
  {
   "cell_type": "code",
   "execution_count": 12,
   "metadata": {},
   "outputs": [
    {
     "data": {
      "application/vnd.jupyter.widget-view+json": {
       "model_id": "de0dd71b73aa46c48702ef4c4fcaf814",
       "version_major": 2,
       "version_minor": 0
      },
      "text/plain": [
       "interactive(children=(IntSlider(value=0, description='i'), Output()), _dom_classes=('widget-interact',))"
      ]
     },
     "metadata": {},
     "output_type": "display_data"
    }
   ],
   "source": [
    "Zs = forest_fire_simulation(p=0.01, f=0.001, size=200, iterations=100)\n",
    "interactive_plot(Zs)"
   ]
  },
  {
   "cell_type": "code",
   "execution_count": 13,
   "metadata": {},
   "outputs": [
    {
     "data": {
      "application/vnd.jupyter.widget-view+json": {
       "model_id": "78f0bf3eb100462c93f73abad3057b40",
       "version_major": 2,
       "version_minor": 0
      },
      "text/plain": [
       "interactive(children=(IntSlider(value=0, description='i'), Output()), _dom_classes=('widget-interact',))"
      ]
     },
     "metadata": {},
     "output_type": "display_data"
    }
   ],
   "source": [
    "Zs = forest_fire_simulation(p=0.01, f=0.01, size=200, iterations=100)\n",
    "interactive_plot(Zs)"
   ]
  }
 ],
 "metadata": {
  "kernelspec": {
   "display_name": "uni",
   "language": "python",
   "name": "python3"
  },
  "language_info": {
   "codemirror_mode": {
    "name": "ipython",
    "version": 3
   },
   "file_extension": ".py",
   "mimetype": "text/x-python",
   "name": "python",
   "nbconvert_exporter": "python",
   "pygments_lexer": "ipython3",
   "version": "3.11.5"
  }
 },
 "nbformat": 4,
 "nbformat_minor": 2
}
