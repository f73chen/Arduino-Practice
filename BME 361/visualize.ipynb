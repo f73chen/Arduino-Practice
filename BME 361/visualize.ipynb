{
 "cells": [
  {
   "cell_type": "code",
   "execution_count": null,
   "metadata": {},
   "outputs": [],
   "source": [
    "import os\n",
    "import csv\n",
    "import argparse\n",
    "import math\n",
    "import pandas as pd\n",
    "from matplotlib.figure import Figure\n",
    "from matplotlib.backends.backend_tkagg import (FigureCanvasTkAgg, NavigationToolbar2Tk)\n",
    "import matplotlib.pyplot as plt\n",
    "from tkinter import *\n",
    "\n",
    "pd.options.mode.chained_assignment = None  # default='warn'"
   ]
  },
  {
   "cell_type": "code",
   "execution_count": null,
   "metadata": {},
   "outputs": [],
   "source": [
    "# Input CSV filename from the command line\n",
    "# parser = argparse.ArgumentParser()\n",
    "# parser.add_argument(\"-d\", \"--directory\", type=str, help=\"Path to data directory\")\n",
    "# parser.add_argument(\"-f\", \"--filename\", type=str, help=\"CSV filename\")\n",
    "# parser.add_argument(\"-w\", \"--width\", type=int, help=\"Window width\")\n",
    "# parser.add_argument(\"-l\", \"--height\", type=int, help=\"Window height\")\n",
    "# args = parser.parse_args()\n",
    "\n",
    "# Load the CSV as a DataFrame\n",
    "# parent_path = os.path.dirname(os.path.abspath(__file__))\n",
    "# csv_path = os.path.join(parent_path, args.directory, args.filename)\n",
    "\n",
    "width = 500\n",
    "height = 500\n",
    "csv_path = \"data/felt.csv\"\n",
    "\n",
    "print(f\"Reading from: {csv_path}\")\n",
    "df = pd.read_csv(csv_path)"
   ]
  },
  {
   "cell_type": "code",
   "execution_count": null,
   "metadata": {},
   "outputs": [],
   "source": [
    "# Sensor locations\n",
    "#    r0_1\tr2_1\tr6_1\tr0_2\tr2_2\tr6_2\n",
    "x = [0,     -1,     4,      3,      1,      -2]\n",
    "y = [0,     14,     13,     8,      16,     19]"
   ]
  },
  {
   "cell_type": "code",
   "execution_count": null,
   "metadata": {},
   "outputs": [],
   "source": [
    "# Extract relevant columns\n",
    "# r0_1 etc. are already the converted masses/weights\n",
    "df_clean = df[['r0_1', 'r2_1', 'r6_1', 'r0_2', 'r2_2', 'r6_2']]\n",
    "df_clean['x_com'] = 0\n",
    "df_clean['y_com'] = 0\n",
    "df_clean['weight_tot'] = 0"
   ]
  },
  {
   "cell_type": "code",
   "execution_count": null,
   "metadata": {},
   "outputs": [],
   "source": [
    "# Not sure why my x_com and y_com are different than the csv\n",
    "# But mine matches manual calculation\n",
    "nrows, ncols = df_clean.shape\n",
    "for i in range(nrows):\n",
    "    weighted_x, weighted_y, weight_tot = 0, 0, 0\n",
    "    for j in range(ncols-2):\n",
    "        weight = df_clean.iloc[i, j]\n",
    "        if not math.isinf(weight):\n",
    "            weighted_x += weight * x[j]\n",
    "            weighted_y += weight * y[j]\n",
    "            weight_tot += weight\n",
    "    df_clean.loc[i, 'x_com'] = weighted_x / max(weight_tot, 0.1)\n",
    "    df_clean.loc[i, 'y_com'] = weighted_y / max(weight_tot, 0.1)\n",
    "    df_clean.loc[i, 'weight_tot'] = weight_tot"
   ]
  },
  {
   "cell_type": "code",
   "execution_count": null,
   "metadata": {},
   "outputs": [],
   "source": [
    "# Plot the FSR and COM locations\n",
    "fsr_factor=1\n",
    "com_factor=1/6\n",
    "\n",
    "def plot():\n",
    "    idx = frame.get()\n",
    "    weights = df_clean.iloc[idx, :6]\n",
    "    com = df_clean.iloc[idx, 6:]\n",
    "\n",
    "    ax.clear()\n",
    "    ax.set_xlim((-7, 24))   # -7, 9\n",
    "    ax.set_ylim((-7, 24))   # -5, 24\n",
    "\n",
    "    for i, weight in enumerate(weights):\n",
    "        circle = plt.Circle((x[i], y[i]), weight*fsr_factor, color='black')\n",
    "        ax.add_patch(circle)\n",
    "    circle = plt.Circle((com[0], com[1]), com[2]*com_factor, color='g')\n",
    "    ax.add_patch(circle)\n",
    "\n",
    "    canvas.draw()\n",
    "    canvas.get_tk_widget().pack()\n",
    "    toolbar.update()\n",
    "    canvas.get_tk_widget().pack()"
   ]
  },
  {
   "cell_type": "code",
   "execution_count": null,
   "metadata": {},
   "outputs": [],
   "source": [
    "window = Tk()\n",
    "window.title(\"Foot Pressure\")\n",
    "window.geometry(f'{width}x{height}')\n",
    "\n",
    "fig, ax = plt.subplots()\n",
    "canvas = FigureCanvasTkAgg(fig, master=window)\n",
    "toolbar = NavigationToolbar2Tk(canvas, window)\n",
    "\n",
    "frame = Scale(window, from_=0, to=nrows-1, orient=HORIZONTAL)\n",
    "frame.pack()\n",
    "\n",
    "update_button = Button(master=window, command=plot, height=2, width=10, text=\"Update\")\n",
    "update_button.pack()\n",
    "\n",
    "window.mainloop()"
   ]
  }
 ],
 "metadata": {
  "interpreter": {
   "hash": "78587f5f97391f06a5f35699c109bdd3ccdc5ce5156578feb5b694eb02769f06"
  },
  "kernelspec": {
   "display_name": "Python 3.9.5 64-bit ('uni': conda)",
   "language": "python",
   "name": "python3"
  },
  "language_info": {
   "codemirror_mode": {
    "name": "ipython",
    "version": 3
   },
   "file_extension": ".py",
   "mimetype": "text/x-python",
   "name": "python",
   "nbconvert_exporter": "python",
   "pygments_lexer": "ipython3",
   "version": "3.9.5"
  },
  "orig_nbformat": 4
 },
 "nbformat": 4,
 "nbformat_minor": 2
}
