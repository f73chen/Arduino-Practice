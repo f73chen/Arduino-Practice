{
 "cells": [
  {
   "cell_type": "code",
   "execution_count": null,
   "metadata": {},
   "outputs": [],
   "source": [
    "import os\n",
    "import csv\n",
    "import argparse\n",
    "import math\n",
    "import pandas as pd\n",
    "import matplotlib.pyplot as plt\n",
    "from matplotlib.pyplot import figure\n",
    "from matplotlib.backends.backend_tkagg import (FigureCanvasTkAgg, NavigationToolbar2Tk)\n",
    "from tkinter import *\n",
    "\n",
    "pd.options.mode.chained_assignment = None  # default='warn'"
   ]
  },
  {
   "cell_type": "code",
   "execution_count": null,
   "metadata": {},
   "outputs": [],
   "source": [
    "# Input CSV filename from the command line\n",
    "# parser = argparse.ArgumentParser()\n",
    "# parser.add_argument(\"-d\", \"--directory\", type=str, help=\"Path to data directory\", default=\"data\")\n",
    "# parser.add_argument(\"-f\", \"--filename\", type=str, help=\"CSV filename\")\n",
    "# parser.add_argument(\"-l\", \"--height\", type=int, help=\"Window height\", default=625)\n",
    "# parser.add_argument(\"-w\", \"--width\", type=int, help=\"Window width\", default=450)\n",
    "# parser.add_argument(\"-fs\", \"--fsr_scale\", type=float, help=\"FSR circle scaling factor\", default=2/3)\n",
    "# parser.add_argument(\"-cs\", \"--com_scale\", type=float, help=\"COM circle scaling factor\", default=1/6)\n",
    "# args = parser.parse_args()\n",
    "\n",
    "# Load the CSV as a DataFrame\n",
    "# parent_path = os.path.dirname(os.path.abspath(__file__))\n",
    "# csv_path = os.path.join(parent_path, args.directory, args.filename)\n",
    "\n",
    "csv_path = \"data/felt.csv\"\n",
    "height = 625\n",
    "width = 450\n",
    "fsr_factor = 2/3\n",
    "com_factor = 1/6\n",
    "\n",
    "print(f\"Reading from: {csv_path}\")\n",
    "df = pd.read_csv(csv_path)"
   ]
  },
  {
   "cell_type": "code",
   "execution_count": null,
   "metadata": {},
   "outputs": [],
   "source": [
    "# Sensor locations\n",
    "#    r0_1\tr2_1\tr6_1\tr0_2\tr2_2\tr6_2\n",
    "x = [0,     -1,     4,      3,      1,      -2]\n",
    "y = [0,     14,     13,     8,      16,     19]"
   ]
  },
  {
   "cell_type": "code",
   "execution_count": null,
   "metadata": {},
   "outputs": [],
   "source": [
    "# Extract relevant columns\n",
    "# r0_1 etc. are already the converted masses/weights\n",
    "df_clean = df[['r0_1', 'r2_1', 'r6_1', 'r0_2', 'r2_2', 'r6_2']]\n",
    "df_clean['x_com'] = 0\n",
    "df_clean['y_com'] = 0\n",
    "df_clean['weight_tot'] = 0"
   ]
  },
  {
   "cell_type": "code",
   "execution_count": null,
   "metadata": {},
   "outputs": [],
   "source": [
    "# Not sure why my x_com and y_com are different than the csv\n",
    "# But mine matches manual calculation\n",
    "nrows, ncols = df_clean.shape\n",
    "for i in range(nrows):\n",
    "    weighted_x, weighted_y, weight_tot = 0, 0, 0\n",
    "    for j in range(ncols-3):\n",
    "        weight = df_clean.iloc[i, j]\n",
    "        if not math.isinf(weight):\n",
    "            weighted_x += weight * x[j]\n",
    "            weighted_y += weight * y[j]\n",
    "            weight_tot += weight\n",
    "    df_clean.loc[i, 'x_com'] = weighted_x / max(weight_tot, 0.1)\n",
    "    df_clean.loc[i, 'y_com'] = weighted_y / max(weight_tot, 0.1)\n",
    "    df_clean.loc[i, 'weight_tot'] = weight_tot"
   ]
  },
  {
   "cell_type": "code",
   "execution_count": null,
   "metadata": {},
   "outputs": [],
   "source": [
    "# Update the Tkinter plot\n",
    "def plot(idx):\n",
    "    # Get current FSR weights and center of mass (COM)\n",
    "    idx = int(idx)\n",
    "    weights = df_clean.iloc[idx, :6]\n",
    "    com = df_clean.iloc[idx, 6:]\n",
    "\n",
    "    # Reset the plot area\n",
    "    ax.clear()\n",
    "    ax.set_xlim((-7, 9))\n",
    "    ax.set_ylim((-5, 24))\n",
    "\n",
    "    # Add circles representing the pressures\n",
    "    for i, weight in enumerate(weights):\n",
    "        circle = plt.Circle((x[i], y[i]), weight*fsr_factor, color='black')\n",
    "        ax.add_patch(circle)\n",
    "    circle = plt.Circle((com[0], com[1]), com[2]*com_factor, color='green')\n",
    "    ax.add_patch(circle)\n",
    "\n",
    "    # Load the Matplotlib graph in Tkinter\n",
    "    canvas.draw()\n",
    "    canvas.get_tk_widget().pack()"
   ]
  },
  {
   "cell_type": "code",
   "execution_count": null,
   "metadata": {},
   "outputs": [],
   "source": [
    "# Instantiate the Tkinter window\n",
    "window = Tk()\n",
    "window.title(\"Foot Pressure\")\n",
    "window.geometry(f'{width}x{height}')\n",
    "\n",
    "# Instantiate the plotting canvas\n",
    "fig, ax = plt.subplots()\n",
    "figheight, figwidth = height/625*8, width/450*4.5\n",
    "fig.set_figheight(figheight)\n",
    "fig.set_figwidth(figwidth)\n",
    "canvas = FigureCanvasTkAgg(fig, master=window)\n",
    "\n",
    "# Add the frame selector\n",
    "frame = Scale(master=window, from_=0, to=nrows-1, length=int(width*0.9), orient=HORIZONTAL, command=plot)\n",
    "frame.pack()\n",
    "\n",
    "window.mainloop()"
   ]
  }
 ],
 "metadata": {
  "interpreter": {
   "hash": "78587f5f97391f06a5f35699c109bdd3ccdc5ce5156578feb5b694eb02769f06"
  },
  "kernelspec": {
   "display_name": "Python 3.9.5 64-bit ('uni': conda)",
   "language": "python",
   "name": "python3"
  },
  "language_info": {
   "codemirror_mode": {
    "name": "ipython",
    "version": 3
   },
   "file_extension": ".py",
   "mimetype": "text/x-python",
   "name": "python",
   "nbconvert_exporter": "python",
   "pygments_lexer": "ipython3",
   "version": "3.9.5"
  },
  "orig_nbformat": 4
 },
 "nbformat": 4,
 "nbformat_minor": 2
}
